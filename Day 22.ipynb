{
 "cells": [
  {
   "cell_type": "markdown",
   "metadata": {},
   "source": [
    "## Day 22\n",
    "\n",
    "https://adventofcode.com/2020/day/22"
   ]
  },
  {
   "cell_type": "code",
   "execution_count": 1,
   "metadata": {},
   "outputs": [],
   "source": [
    "import collections\n",
    "import itertools"
   ]
  },
  {
   "cell_type": "code",
   "execution_count": 2,
   "metadata": {},
   "outputs": [],
   "source": [
    "import aocd"
   ]
  },
  {
   "cell_type": "code",
   "execution_count": 3,
   "metadata": {},
   "outputs": [],
   "source": [
    "test_data = \"\"\"\n",
    "Player 1:\n",
    "9\n",
    "2\n",
    "6\n",
    "3\n",
    "1\n",
    "\n",
    "Player 2:\n",
    "5\n",
    "8\n",
    "4\n",
    "7\n",
    "10\n",
    "\"\"\""
   ]
  },
  {
   "cell_type": "code",
   "execution_count": 4,
   "metadata": {},
   "outputs": [],
   "source": [
    "def parse_data(data):\n",
    "    lines = [line.split(':')[1] for line in data.split('\\n\\n')]\n",
    "    deck1, deck2 = [\n",
    "        [int(value) for value in s.split('\\n') if value != '']\n",
    "        for s in lines\n",
    "    ]\n",
    "    return deck1, deck2"
   ]
  },
  {
   "cell_type": "code",
   "execution_count": 5,
   "metadata": {},
   "outputs": [
    {
     "data": {
      "text/plain": [
       "(25, 25)"
      ]
     },
     "execution_count": 5,
     "metadata": {},
     "output_type": "execute_result"
    }
   ],
   "source": [
    "# deck1, deck2 = parse_data(test_data)\n",
    "deck1, deck2 = parse_data(aocd.get_data(day=22, year=2020))\n",
    "len(deck1), len(deck2)"
   ]
  },
  {
   "cell_type": "markdown",
   "metadata": {},
   "source": [
    "### Solution to Part 1"
   ]
  },
  {
   "cell_type": "code",
   "execution_count": 6,
   "metadata": {},
   "outputs": [],
   "source": [
    "def play(deck1, deck2):\n",
    "    deck1 = collections.deque(deck1)\n",
    "    deck2 = collections.deque(deck2)\n",
    "    while deck1 and deck2:\n",
    "        card1 = deck1.popleft()\n",
    "        card2 = deck2.popleft()\n",
    "        if card1 > card2:\n",
    "            deck1.extend([card1, card2])\n",
    "        elif card2 > card1:\n",
    "            deck2.extend([card2, card1])\n",
    "    return deck1, deck2"
   ]
  },
  {
   "cell_type": "code",
   "execution_count": 7,
   "metadata": {},
   "outputs": [
    {
     "data": {
      "text/plain": [
       "(50, 0)"
      ]
     },
     "execution_count": 7,
     "metadata": {},
     "output_type": "execute_result"
    }
   ],
   "source": [
    "final1, final2 = play(deck1, deck2)\n",
    "len(final1), len(final2)"
   ]
  },
  {
   "cell_type": "code",
   "execution_count": 8,
   "metadata": {},
   "outputs": [],
   "source": [
    "def score(deck1, deck2):\n",
    "    winner = deck1 if deck1 else deck2\n",
    "    total = 0\n",
    "    for i, card in enumerate(reversed(winner)):\n",
    "        total += card * (i + 1)\n",
    "    return total"
   ]
  },
  {
   "cell_type": "code",
   "execution_count": 9,
   "metadata": {},
   "outputs": [
    {
     "data": {
      "text/plain": [
       "35005"
      ]
     },
     "execution_count": 9,
     "metadata": {},
     "output_type": "execute_result"
    }
   ],
   "source": [
    "score(final1, final2)"
   ]
  },
  {
   "cell_type": "markdown",
   "metadata": {},
   "source": [
    "### Solution to Part 2"
   ]
  },
  {
   "cell_type": "code",
   "execution_count": 10,
   "metadata": {},
   "outputs": [],
   "source": [
    "def _play_subgame(deck1, deck2, *, card1, card2, game, game_counter):\n",
    "    subdeck1 = [\n",
    "        card for i, card in enumerate(deck1)\n",
    "        if i < card1\n",
    "    ]\n",
    "    subdeck2 = [\n",
    "        card for i, card in enumerate(deck2)\n",
    "        if i < card2\n",
    "    ]\n",
    "    return play_recursive(\n",
    "        subdeck1,\n",
    "        subdeck2,\n",
    "        game=game,\n",
    "        game_counter=game_counter,\n",
    "    )"
   ]
  },
  {
   "cell_type": "code",
   "execution_count": 11,
   "metadata": {},
   "outputs": [],
   "source": [
    "def play_recursive(\n",
    "        deck1,\n",
    "        deck2,\n",
    "        *,\n",
    "        verbose=False,\n",
    "        game=None,\n",
    "        game_counter=None,\n",
    "):\n",
    "    if game_counter is None:\n",
    "        game_counter = itertools.count(1)\n",
    "        game = next(game_counter)\n",
    "    game_round = 0\n",
    "    already_seen = set()\n",
    "\n",
    "    deck1 = collections.deque(deck1)\n",
    "    deck2 = collections.deque(deck2)\n",
    "    while deck1 and deck2:\n",
    "        game_round += 1\n",
    "        if verbose:\n",
    "            print(f'Game {game} Round {game_round}')\n",
    "            print(f'Player 1 deck: {list(deck1)}')\n",
    "            print(f'Player 2 deck: {list(deck2)}')\n",
    "        \n",
    "        configuration = (tuple(deck1), tuple(deck2))\n",
    "        if configuration in already_seen:\n",
    "            break\n",
    "        already_seen.add(configuration)\n",
    "        \n",
    "        card1 = deck1.popleft()\n",
    "        card2 = deck2.popleft()\n",
    "        if verbose:\n",
    "            print(f'Player 1 plays {card1}')\n",
    "            print(f'Player 2 plays {card2}')\n",
    "        \n",
    "        if len(deck1) >= card1 and len(deck2) >= card2:\n",
    "            if verbose:\n",
    "                print('Playing a subgame to determine a winner...\\n')\n",
    "            player1_wins_subgame, _ = _play_subgame(\n",
    "                deck1,\n",
    "                deck2,\n",
    "                card1=card1,\n",
    "                card2=card2,\n",
    "                  game=next(game_counter),\n",
    "                game_counter=game_counter,\n",
    "            )\n",
    "            if verbose:\n",
    "                print()\n",
    "                print(f'...Back to game {game}')\n",
    "            if player1_wins_subgame:\n",
    "                winner = 'Player 1'\n",
    "                deck1.extend([card1, card2])\n",
    "            else:\n",
    "                winner = 'Player 2'\n",
    "                deck2.extend([card2, card1])\n",
    "            if verbose:\n",
    "                print(f'{winner} wins round {game_round} of game {game}')\n",
    "        elif card1 > card2:\n",
    "            winner = 'Player 1'\n",
    "            deck1.extend([card1, card2])\n",
    "        elif card2 > card1:\n",
    "            winner = 'Player 2'\n",
    "            deck2.extend([card2, card1])\n",
    "        if verbose:\n",
    "            print(f'{winner} wins round {game_round} of game {game}')\n",
    "\n",
    "    winner = 'Player 1' if deck1 else 'Player 2'\n",
    "    if verbose:\n",
    "        print(f'Winner of game {game} is {winner}')\n",
    "    return deck1, deck2"
   ]
  },
  {
   "cell_type": "code",
   "execution_count": 12,
   "metadata": {},
   "outputs": [
    {
     "data": {
      "text/plain": [
       "(50, 0)"
      ]
     },
     "execution_count": 12,
     "metadata": {},
     "output_type": "execute_result"
    }
   ],
   "source": [
    "final1, final2 = play_recursive(deck1, deck2)\n",
    "len(final1), len(final2)"
   ]
  },
  {
   "cell_type": "code",
   "execution_count": 13,
   "metadata": {},
   "outputs": [
    {
     "data": {
      "text/plain": [
       "32751"
      ]
     },
     "execution_count": 13,
     "metadata": {},
     "output_type": "execute_result"
    }
   ],
   "source": [
    "score(final1, final2)"
   ]
  },
  {
   "cell_type": "code",
   "execution_count": null,
   "metadata": {},
   "outputs": [],
   "source": []
  }
 ],
 "metadata": {
  "kernelspec": {
   "display_name": "Python 3",
   "language": "python",
   "name": "python3"
  },
  "language_info": {
   "codemirror_mode": {
    "name": "ipython",
    "version": 3
   },
   "file_extension": ".py",
   "mimetype": "text/x-python",
   "name": "python",
   "nbconvert_exporter": "python",
   "pygments_lexer": "ipython3",
   "version": "3.8.5"
  }
 },
 "nbformat": 4,
 "nbformat_minor": 4
}
