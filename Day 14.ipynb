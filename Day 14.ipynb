{
 "cells": [
  {
   "cell_type": "markdown",
   "metadata": {},
   "source": [
    "## Day 14\n",
    "\n",
    "https://adventofcode.com/2020/day/14"
   ]
  },
  {
   "cell_type": "code",
   "execution_count": 1,
   "metadata": {},
   "outputs": [],
   "source": [
    "import aocd"
   ]
  },
  {
   "cell_type": "code",
   "execution_count": 2,
   "metadata": {},
   "outputs": [
    {
     "data": {
      "text/plain": [
       "521"
      ]
     },
     "execution_count": 2,
     "metadata": {},
     "output_type": "execute_result"
    }
   ],
   "source": [
    "lines = [line for line in aocd.get_data(day=14, year=2020).splitlines()]\n",
    "len(lines)"
   ]
  },
  {
   "cell_type": "code",
   "execution_count": 3,
   "metadata": {},
   "outputs": [
    {
     "data": {
      "text/plain": [
       "['mask = 100110X100000XX0X100X1100110X001X100',\n",
       " 'mem[21836] = 68949',\n",
       " 'mem[61020] = 7017251',\n",
       " 'mask = X00X0011X11000X1010X0X0X110X0X011000',\n",
       " 'mem[30885] = 231192']"
      ]
     },
     "execution_count": 3,
     "metadata": {},
     "output_type": "execute_result"
    }
   ],
   "source": [
    "lines[:5]"
   ]
  },
  {
   "cell_type": "markdown",
   "metadata": {},
   "source": [
    "### Solution to Part 1"
   ]
  },
  {
   "cell_type": "code",
   "execution_count": 4,
   "metadata": {},
   "outputs": [],
   "source": [
    "def maskable(value: int) -> list:\n",
    "    return list(bin(value)[2:].zfill(36))"
   ]
  },
  {
   "cell_type": "code",
   "execution_count": 5,
   "metadata": {},
   "outputs": [],
   "source": [
    "def mask_value(value: int, *, mask: str) -> int:\n",
    "    value = maskable(value)\n",
    "    assert len(mask) == 36\n",
    "    assert len(value) == 36\n",
    "    masked = []\n",
    "    for (mask_bit, value_bit) in zip(mask, value):\n",
    "        bit = value_bit if mask_bit == 'X' else mask_bit\n",
    "        masked.append(bit)\n",
    "    return int(''.join(masked), 2)"
   ]
  },
  {
   "cell_type": "code",
   "execution_count": 6,
   "metadata": {},
   "outputs": [],
   "source": [
    "mask = 'XXXXXXXXXXXXXXXXXXXXXXXXXXXXX1XXXX0X'"
   ]
  },
  {
   "cell_type": "code",
   "execution_count": 7,
   "metadata": {},
   "outputs": [
    {
     "data": {
      "text/plain": [
       "73"
      ]
     },
     "execution_count": 7,
     "metadata": {},
     "output_type": "execute_result"
    }
   ],
   "source": [
    "mask_value(11, mask=mask)"
   ]
  },
  {
   "cell_type": "code",
   "execution_count": 8,
   "metadata": {},
   "outputs": [
    {
     "data": {
      "text/plain": [
       "101"
      ]
     },
     "execution_count": 8,
     "metadata": {},
     "output_type": "execute_result"
    }
   ],
   "source": [
    "mask_value(101, mask=mask)"
   ]
  },
  {
   "cell_type": "code",
   "execution_count": 9,
   "metadata": {},
   "outputs": [],
   "source": [
    "def parse_line(line: str):\n",
    "    cmd, value = line.split(' = ')\n",
    "    if cmd == 'mask':\n",
    "        return ('mask', value)\n",
    "    else:\n",
    "        addr = int(cmd[4:-1])\n",
    "        value = int(value)\n",
    "        return ('mem', (addr, value))"
   ]
  },
  {
   "cell_type": "code",
   "execution_count": 10,
   "metadata": {},
   "outputs": [],
   "source": [
    "def store_mem(lines):\n",
    "    mask = None\n",
    "    for line in lines:\n",
    "        cmd, value = parse_line(line)\n",
    "        if cmd == 'mask':\n",
    "            mask = value\n",
    "        elif cmd == 'mem':\n",
    "            addr, value = value\n",
    "            yield addr, mask_value(value, mask=mask)\n",
    "        else:\n",
    "            raise RuntimeError('cannot happen')"
   ]
  },
  {
   "cell_type": "code",
   "execution_count": 11,
   "metadata": {},
   "outputs": [
    {
     "data": {
      "text/plain": [
       "354"
      ]
     },
     "execution_count": 11,
     "metadata": {},
     "output_type": "execute_result"
    }
   ],
   "source": [
    "mem = {addr: value for addr, value in store_mem(lines)}\n",
    "len(mem)"
   ]
  },
  {
   "cell_type": "code",
   "execution_count": 12,
   "metadata": {},
   "outputs": [
    {
     "data": {
      "text/plain": [
       "10452688630537"
      ]
     },
     "execution_count": 12,
     "metadata": {},
     "output_type": "execute_result"
    }
   ],
   "source": [
    "sum(mem.values())"
   ]
  },
  {
   "cell_type": "markdown",
   "metadata": {},
   "source": [
    "### Solution to Part 2"
   ]
  },
  {
   "cell_type": "code",
   "execution_count": 13,
   "metadata": {},
   "outputs": [],
   "source": [
    "def overwrite_floating(masked: str, *, bits: str) -> str:\n",
    "    assert masked.count('X') == len(bits)\n",
    "    overwritten = []\n",
    "    bit = iter(bits)\n",
    "    for c in masked:\n",
    "        if c == 'X':\n",
    "            overwritten.append(next(bit))\n",
    "        else:\n",
    "            overwritten.append(c)\n",
    "    return int(''.join(overwritten), 2)"
   ]
  },
  {
   "cell_type": "code",
   "execution_count": 14,
   "metadata": {},
   "outputs": [],
   "source": [
    "def floating_addrs(masked: str, *, floating: int) -> list:\n",
    "    floating_bits = [\n",
    "        bin(i)[2:].zfill(floating)\n",
    "        for i in range(2 ** floating)\n",
    "    ]\n",
    "    return [\n",
    "        overwrite_floating(masked, bits=bits)\n",
    "        for bits in floating_bits\n",
    "    ]"
   ]
  },
  {
   "cell_type": "code",
   "execution_count": 15,
   "metadata": {},
   "outputs": [],
   "source": [
    "def masked_addrs(addr: int, *, mask: str) -> list:\n",
    "    addr = maskable(addr)\n",
    "    assert len(mask) == 36\n",
    "    assert len(addr) == 36\n",
    "    masked = []\n",
    "    for (mask_bit, addr_bit) in zip(mask, addr):\n",
    "        if mask_bit == '0':\n",
    "            bit = addr_bit\n",
    "        elif mask_bit == '1':\n",
    "            bit = '1'\n",
    "        elif mask_bit == 'X':\n",
    "            bit = 'X'\n",
    "        else:\n",
    "            raise RuntimeError('cannot happen')\n",
    "        masked.append(bit)\n",
    "    floating = masked.count('X')\n",
    "    if floating == 0:\n",
    "        return [int(''.join(masked), 2)]\n",
    "    return floating_addrs(masked, floating=floating)"
   ]
  },
  {
   "cell_type": "code",
   "execution_count": 16,
   "metadata": {},
   "outputs": [],
   "source": [
    "mask = '000000000000000000000000000000X1001X'"
   ]
  },
  {
   "cell_type": "code",
   "execution_count": 17,
   "metadata": {},
   "outputs": [
    {
     "data": {
      "text/plain": [
       "4"
      ]
     },
     "execution_count": 17,
     "metadata": {},
     "output_type": "execute_result"
    }
   ],
   "source": [
    "len(masked_addrs(42, mask=mask))"
   ]
  },
  {
   "cell_type": "code",
   "execution_count": 18,
   "metadata": {},
   "outputs": [],
   "source": [
    "def store_mem_part2(lines):\n",
    "    mask = None\n",
    "    for line in lines:\n",
    "        cmd, value = parse_line(line)\n",
    "        if cmd == 'mask':\n",
    "            mask = value\n",
    "        elif cmd == 'mem':\n",
    "            addr, value = value\n",
    "            for masked_addr in masked_addrs(addr, mask=mask):\n",
    "                yield masked_addr, value\n",
    "        else:\n",
    "            raise RuntimeError('cannot happen')"
   ]
  },
  {
   "cell_type": "code",
   "execution_count": 19,
   "metadata": {},
   "outputs": [
    {
     "data": {
      "text/plain": [
       "80345"
      ]
     },
     "execution_count": 19,
     "metadata": {},
     "output_type": "execute_result"
    }
   ],
   "source": [
    "mem = {addr: value for addr, value in store_mem_part2(lines)}\n",
    "len(mem)"
   ]
  },
  {
   "cell_type": "code",
   "execution_count": 20,
   "metadata": {},
   "outputs": [
    {
     "data": {
      "text/plain": [
       "2881082759597"
      ]
     },
     "execution_count": 20,
     "metadata": {},
     "output_type": "execute_result"
    }
   ],
   "source": [
    "sum(mem.values())"
   ]
  },
  {
   "cell_type": "code",
   "execution_count": null,
   "metadata": {},
   "outputs": [],
   "source": []
  }
 ],
 "metadata": {
  "kernelspec": {
   "display_name": "Python 3",
   "language": "python",
   "name": "python3"
  },
  "language_info": {
   "codemirror_mode": {
    "name": "ipython",
    "version": 3
   },
   "file_extension": ".py",
   "mimetype": "text/x-python",
   "name": "python",
   "nbconvert_exporter": "python",
   "pygments_lexer": "ipython3",
   "version": "3.8.5"
  }
 },
 "nbformat": 4,
 "nbformat_minor": 4
}
