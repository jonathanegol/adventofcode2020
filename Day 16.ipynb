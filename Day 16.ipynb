{
 "cells": [
  {
   "cell_type": "markdown",
   "metadata": {},
   "source": [
    "## Day 16\n",
    "\n",
    "https://adventofcode.com/2020/day/16"
   ]
  },
  {
   "cell_type": "code",
   "execution_count": 1,
   "metadata": {},
   "outputs": [],
   "source": [
    "import collections"
   ]
  },
  {
   "cell_type": "code",
   "execution_count": 2,
   "metadata": {},
   "outputs": [],
   "source": [
    "import aocd"
   ]
  },
  {
   "cell_type": "code",
   "execution_count": 3,
   "metadata": {},
   "outputs": [],
   "source": [
    "class Rule:\n",
    "    def __init__(self, text):\n",
    "        name, value = text.split(': ')\n",
    "        self.name = name\n",
    "        left, right = value.split(' or ')\n",
    "        left = [int(s) for s in left.split('-')]\n",
    "        self.left = range(left[0], left[1] + 1)\n",
    "        right = [int(s) for s in right.split('-')]\n",
    "        self.right = range(right[0], right[1] + 1)\n",
    "        \n",
    "    def __contains__(self, value):\n",
    "        return value in self.left or value in self.right\n",
    "    \n",
    "    def __repr__(self):\n",
    "        return (\n",
    "            f'<{self.__class__.__name__}('\n",
    "            f'{self.name}, {self.left}, {self.right})>'\n",
    "        )"
   ]
  },
  {
   "cell_type": "code",
   "execution_count": 4,
   "metadata": {},
   "outputs": [],
   "source": [
    "class Rules(collections.abc.Mapping):\n",
    "    def __init__(self, rules):\n",
    "        self._rules = {\n",
    "            rule.name: rule\n",
    "            for rule in rules\n",
    "        }\n",
    "        \n",
    "    def __contains__(self, value):\n",
    "        return any(\n",
    "            value in rule.left or value in rule.right\n",
    "            for rule in self._rules.values()\n",
    "        )\n",
    "    \n",
    "    def is_valid(self, ticket):\n",
    "        return all(n in self for n in ticket)\n",
    "\n",
    "    @property\n",
    "    def names(self):\n",
    "        return list(self._rules.keys())\n",
    "    \n",
    "    def __len__(self):\n",
    "        return len(self._rules)\n",
    "    \n",
    "    def __iter__(self):\n",
    "        return iter(self._rules.values())\n",
    "    \n",
    "    def __getitem__(self, key):\n",
    "        return self._rules[key]\n",
    "    \n",
    "    def __repr__(self):\n",
    "        return (\n",
    "            f'<{self.__class__.__name__}('\n",
    "            f'{list(self._rules.values())})>'\n",
    "        )"
   ]
  },
  {
   "cell_type": "code",
   "execution_count": 5,
   "metadata": {},
   "outputs": [],
   "source": [
    "class Ticket(collections.abc.Sequence):\n",
    "    def __init__(self, text):\n",
    "        self.numbers = [int(s) for s in text.split(',')]\n",
    "    \n",
    "    def __repr__(self):\n",
    "        return f'<{self.__class__.__name__}({self.numbers})>'\n",
    "    \n",
    "    def __iter__(self):\n",
    "        return iter(self.numbers)\n",
    "    \n",
    "    def __len__(self):\n",
    "        return len(self.numbers)\n",
    "    \n",
    "    def __getitem__(self, index_or_slice):\n",
    "        return self.numbers[index_or_slice]"
   ]
  },
  {
   "cell_type": "code",
   "execution_count": 6,
   "metadata": {},
   "outputs": [],
   "source": [
    "def get_data():\n",
    "    raw = aocd.get_data(day=16, year=2020).split('\\n\\n')\n",
    "    rules = Rules([Rule(s) for s in raw[0].splitlines()])\n",
    "    ticket = Ticket(raw[1].splitlines()[1])\n",
    "    nearby = [Ticket(s) for s in raw[2].splitlines()[1:]]\n",
    "    return rules, ticket, nearby"
   ]
  },
  {
   "cell_type": "code",
   "execution_count": 7,
   "metadata": {},
   "outputs": [
    {
     "data": {
      "text/plain": [
       "<Rules([<Rule(departure location, range(35, 797), range(811, 954))>, <Rule(departure station, range(25, 225), range(248, 953))>, <Rule(departure platform, range(47, 868), range(885, 960))>, <Rule(departure track, range(44, 122), range(127, 950))>, <Rule(departure date, range(49, 155), range(180, 961))>, <Rule(departure time, range(35, 533), range(546, 972))>, <Rule(arrival location, range(41, 701), range(706, 954))>, <Rule(arrival station, range(25, 563), range(568, 969))>, <Rule(arrival platform, range(31, 673), range(680, 970))>, <Rule(arrival track, range(43, 837), range(852, 962))>, <Rule(class, range(38, 292), range(304, 969))>, <Rule(duration, range(31, 747), range(755, 957))>, <Rule(price, range(46, 712), range(719, 972))>, <Rule(route, range(35, 585), range(608, 956))>, <Rule(row, range(39, 619), range(640, 951))>, <Rule(seat, range(25, 309), range(334, 955))>, <Rule(train, range(26, 902), range(913, 958))>, <Rule(type, range(33, 131), range(142, 966))>, <Rule(wagon, range(34, 396), range(405, 963))>, <Rule(zone, range(46, 359), range(377, 970))>])>"
      ]
     },
     "execution_count": 7,
     "metadata": {},
     "output_type": "execute_result"
    }
   ],
   "source": [
    "rules, ticket, nearby = get_data()\n",
    "rules"
   ]
  },
  {
   "cell_type": "code",
   "execution_count": 8,
   "metadata": {},
   "outputs": [
    {
     "data": {
      "text/plain": [
       "<Ticket([97, 103, 89, 191, 73, 79, 83, 101, 151, 71, 149, 53, 181, 59, 61, 67, 113, 109, 107, 127])>"
      ]
     },
     "execution_count": 8,
     "metadata": {},
     "output_type": "execute_result"
    }
   ],
   "source": [
    "ticket"
   ]
  },
  {
   "cell_type": "code",
   "execution_count": 9,
   "metadata": {},
   "outputs": [
    {
     "data": {
      "text/plain": [
       "<Ticket([895, 527, 676, 768, 695, 821, 473, 414, 835, 426, 741, 650, 886, 709, 938, 355, 113, 358, 106, 888])>"
      ]
     },
     "execution_count": 9,
     "metadata": {},
     "output_type": "execute_result"
    }
   ],
   "source": [
    "nearby[0]"
   ]
  },
  {
   "cell_type": "code",
   "execution_count": 10,
   "metadata": {},
   "outputs": [],
   "source": [
    "assert all(len(x) == len(ticket) for x in nearby)"
   ]
  },
  {
   "cell_type": "markdown",
   "metadata": {},
   "source": [
    "### Solution to Part 1"
   ]
  },
  {
   "cell_type": "code",
   "execution_count": 11,
   "metadata": {},
   "outputs": [],
   "source": [
    "def scanning_error_rate(ticket, *, rules) -> int:\n",
    "    return sum(n for n in ticket if n not in rules)"
   ]
  },
  {
   "cell_type": "code",
   "execution_count": 12,
   "metadata": {},
   "outputs": [
    {
     "data": {
      "text/plain": [
       "23115"
      ]
     },
     "execution_count": 12,
     "metadata": {},
     "output_type": "execute_result"
    }
   ],
   "source": [
    "sum(scanning_error_rate(ticket, rules=rules) for ticket in nearby)"
   ]
  },
  {
   "cell_type": "markdown",
   "metadata": {},
   "source": [
    "### Solution to Part 2"
   ]
  },
  {
   "cell_type": "code",
   "execution_count": 13,
   "metadata": {},
   "outputs": [],
   "source": [
    "def find_valid_tickets(tickets, *, rules):\n",
    "    return set(ticket for ticket in tickets if rules.is_valid(ticket))"
   ]
  },
  {
   "cell_type": "code",
   "execution_count": 14,
   "metadata": {},
   "outputs": [],
   "source": [
    "assert len(find_valid_tickets(nearby, rules=rules)) == 190"
   ]
  },
  {
   "cell_type": "code",
   "execution_count": 15,
   "metadata": {},
   "outputs": [],
   "source": [
    "def group_field_values(tickets):\n",
    "    values = []\n",
    "    tickets = iter(tickets)\n",
    "    first = next(tickets)\n",
    "    for n in first:\n",
    "        values.append([n])\n",
    "    for ticket in tickets:\n",
    "        for field, value in enumerate(ticket):\n",
    "            values[field].append(value)\n",
    "    return values"
   ]
  },
  {
   "cell_type": "code",
   "execution_count": 16,
   "metadata": {},
   "outputs": [],
   "source": [
    "def possible_fields(rule, *, field_values):\n",
    "    return set(\n",
    "        field for field, values in enumerate(field_values)\n",
    "        if all(value in rule for value in values)\n",
    "    )"
   ]
  },
  {
   "cell_type": "code",
   "execution_count": 17,
   "metadata": {},
   "outputs": [],
   "source": [
    "def find_possible_rules(*, tickets, rules):\n",
    "    valid_tickets = find_valid_tickets(tickets, rules=rules)\n",
    "    field_values = group_field_values(valid_tickets)\n",
    "    return {\n",
    "        rule.name:  possible_fields(rule, field_values=field_values)\n",
    "        for rule in rules\n",
    "    }"
   ]
  },
  {
   "cell_type": "code",
   "execution_count": 18,
   "metadata": {},
   "outputs": [],
   "source": [
    "def valid_rules(*, tickets, rules):\n",
    "    identified = {}\n",
    "    possible = find_possible_rules(tickets=tickets, rules=rules)\n",
    "    names = sorted(possible, key=lambda x: len(possible[x]))\n",
    "    for name in names:\n",
    "        field = [x for x in possible[name] if x not in identified]\n",
    "        assert len(field) == 1\n",
    "        field = field[0]\n",
    "        identified[field] = name\n",
    "    return identified"
   ]
  },
  {
   "cell_type": "code",
   "execution_count": 19,
   "metadata": {},
   "outputs": [],
   "source": [
    "def ticket_values(ticket, *, nearby, rules):\n",
    "    fields = valid_rules(tickets=nearby, rules=rules)\n",
    "    return {\n",
    "        name: ticket[field]\n",
    "        for field, name in fields.items()\n",
    "    }"
   ]
  },
  {
   "cell_type": "code",
   "execution_count": 20,
   "metadata": {
    "scrolled": true
   },
   "outputs": [
    {
     "data": {
      "text/plain": [
       "{'zone': 127,\n",
       " 'arrival location': 107,\n",
       " 'price': 79,\n",
       " 'wagon': 71,\n",
       " 'row': 59,\n",
       " 'train': 103,\n",
       " 'route': 109,\n",
       " 'arrival platform': 97,\n",
       " 'departure platform': 89,\n",
       " 'departure station': 61,\n",
       " 'departure track': 73,\n",
       " 'departure time': 113,\n",
       " 'departure date': 101,\n",
       " 'departure location': 53,\n",
       " 'arrival station': 83,\n",
       " 'duration': 191,\n",
       " 'seat': 149,\n",
       " 'type': 151,\n",
       " 'arrival track': 67,\n",
       " 'class': 181}"
      ]
     },
     "execution_count": 20,
     "metadata": {},
     "output_type": "execute_result"
    }
   ],
   "source": [
    "ticket_values(ticket, nearby=nearby, rules=rules)"
   ]
  },
  {
   "cell_type": "code",
   "execution_count": 21,
   "metadata": {},
   "outputs": [
    {
     "data": {
      "text/plain": [
       "239727793813"
      ]
     },
     "execution_count": 21,
     "metadata": {},
     "output_type": "execute_result"
    }
   ],
   "source": [
    "89 * 61 * 73 * 113 * 101 * 53"
   ]
  }
 ],
 "metadata": {
  "kernelspec": {
   "display_name": "Python 3",
   "language": "python",
   "name": "python3"
  },
  "language_info": {
   "codemirror_mode": {
    "name": "ipython",
    "version": 3
   },
   "file_extension": ".py",
   "mimetype": "text/x-python",
   "name": "python",
   "nbconvert_exporter": "python",
   "pygments_lexer": "ipython3",
   "version": "3.8.5"
  }
 },
 "nbformat": 4,
 "nbformat_minor": 4
}
