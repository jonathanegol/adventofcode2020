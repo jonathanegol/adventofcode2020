{
 "cells": [
  {
   "cell_type": "markdown",
   "metadata": {},
   "source": [
    "## Day 23\n",
    "\n",
    "https://adventofcode.com/2020/day/23"
   ]
  },
  {
   "cell_type": "code",
   "execution_count": 1,
   "metadata": {},
   "outputs": [],
   "source": [
    "TEST_DATA = '389125467'"
   ]
  },
  {
   "cell_type": "code",
   "execution_count": 2,
   "metadata": {},
   "outputs": [],
   "source": [
    "DATA = '589174263'"
   ]
  },
  {
   "cell_type": "code",
   "execution_count": 3,
   "metadata": {},
   "outputs": [],
   "source": [
    "class Node:\n",
    "    __slots__ = ('value', 'prev', 'succ')\n",
    "    \n",
    "    def __init__(self, *, value, prev, succ):\n",
    "        self.value = value\n",
    "        self.prev = prev\n",
    "        self.succ = succ\n",
    "        \n",
    "    def __repr__(self):\n",
    "        return f'<{self.__class__.__name__}({self.value})>'\n",
    "    \n",
    "    def __str__(self):\n",
    "        return str(self.value)"
   ]
  },
  {
   "cell_type": "code",
   "execution_count": 4,
   "metadata": {},
   "outputs": [],
   "source": [
    "class IndexedCircularLinkedList:\n",
    "    def __init__(self, data=None):\n",
    "        self.head = None\n",
    "        self.index = {}\n",
    "        if data is not None:\n",
    "            for value in data:\n",
    "                self.append(value)\n",
    "    \n",
    "    def __len__(self):\n",
    "        return len(self.index)\n",
    "    \n",
    "    def __iter__(self):\n",
    "        if self.head is None:\n",
    "            return iter(())\n",
    "        start = self.head\n",
    "        node = start\n",
    "        while node is not None:\n",
    "            yield node\n",
    "            node = node.succ if node.succ is not start else None\n",
    "    \n",
    "    def __reversed__(self):\n",
    "        if self.head is None:\n",
    "            return iter(())\n",
    "        start = self.head.prev\n",
    "        node = start\n",
    "        while node is not None:\n",
    "            yield node\n",
    "            node = node.prev if node.prev is not start else None\n",
    "            \n",
    "    def __repr__(self):\n",
    "        if len(self) == 9:\n",
    "            return f'<{self.__class__.__name__}({list(self)})'\n",
    "        return f'<{self.__class__.__name__} with {len(self)} items>'\n",
    "    \n",
    "    def __str__(self):\n",
    "        if len(self) == 9:\n",
    "            return str(list(node.value for node in self))\n",
    "        return repr(self)\n",
    "    \n",
    "    def find(self, item):\n",
    "        return self.index[item]\n",
    "    \n",
    "    def append(self, value):\n",
    "        node = Node(value=value, prev=None, succ=None)\n",
    "        if not self.head:\n",
    "            node.prev = node.succ = node\n",
    "            self.head = node\n",
    "        else:\n",
    "            tail = self.head.prev\n",
    "            tail.succ = node\n",
    "            self.head.prev = node\n",
    "            node.prev = tail\n",
    "            node.succ = self.head\n",
    "        self.index[value] = node\n",
    "        \n",
    "    def remove(self, value):\n",
    "        node = self.index[value]\n",
    "        if node is self.head:\n",
    "            self.head = node.succ\n",
    "        node.prev.succ = node.succ\n",
    "        node.succ.prev = node.prev\n",
    "        del self.index[value]\n",
    "        if not self.index:\n",
    "            self.head = None\n",
    "            \n",
    "    def insert(self, after_value, value):\n",
    "        after_node = self.index[after_value]\n",
    "        node = Node(value=value, prev=after_node, succ=after_node.succ)\n",
    "        after_node.succ = node\n",
    "        node.succ.prev = node\n",
    "        self.index[value] = node"
   ]
  },
  {
   "cell_type": "markdown",
   "metadata": {},
   "source": [
    "### Solution to Part 1"
   ]
  },
  {
   "cell_type": "code",
   "execution_count": 5,
   "metadata": {},
   "outputs": [],
   "source": [
    "class CupPart1Adapter:\n",
    "    def __init__(self, numbers, *, max_label=None):\n",
    "        assert max_label is None\n",
    "        self.number = len(numbers)\n",
    "        self.labels = list(numbers)\n",
    "        self.current = 0\n",
    "        self.current_label = self.labels[self.current]\n",
    "        self.max_label = max(self.labels)\n",
    "    \n",
    "    def __repr__(self):\n",
    "        return (\n",
    "            f'{self.__class__.__name__}('\n",
    "            f'{self.labels!r}'\n",
    "            f', max_label={self.max_label})'\n",
    "        )\n",
    "\n",
    "    def pick(self, *, n):\n",
    "        return [\n",
    "            self.labels[(self.current + k) % self.number]\n",
    "            for k in range(1, n+1)\n",
    "        ]\n",
    "    \n",
    "    def remove(self, *, picked):\n",
    "        for label in picked:\n",
    "            index = self.labels.index(label)\n",
    "            self.labels.pop(index)\n",
    "\n",
    "    def insert(self, *, destination_label, picked):\n",
    "        destination = self.labels.index(destination_label)\n",
    "        insert_at = (destination + 1) % self.number\n",
    "        for label in reversed(picked):\n",
    "            self.labels.insert(insert_at, label)\n",
    "\n",
    "    def update_current(self):\n",
    "        k = self.labels.index(self.current_label)\n",
    "        self.current = (k + 1) % self.number\n",
    "        self.current_label = self.labels[self.current]"
   ]
  },
  {
   "cell_type": "code",
   "execution_count": 6,
   "metadata": {},
   "outputs": [],
   "source": [
    "class CupSimulator:\n",
    "    def __init__(\n",
    "            self,\n",
    "            numbers,\n",
    "            *,\n",
    "            adapter_type,\n",
    "            max_label=None, \n",
    "    ):\n",
    "        assert len(numbers) == 9\n",
    "        self.adapter_type = adapter_type\n",
    "        self.max_label = max_label\n",
    "        self.adapter = adapter_type(numbers, max_label=max_label)\n",
    "    \n",
    "    @classmethod\n",
    "    def from_str(cls, data, *, adapter_type, max_label=None):\n",
    "        return cls(\n",
    "            [int(c) for c in data],\n",
    "            adapter_type=adapter_type,\n",
    "            max_label=max_label,\n",
    "        )\n",
    "\n",
    "    @property\n",
    "    def current_label(self):\n",
    "        return self.adapter.current_label\n",
    "    \n",
    "    @property\n",
    "    def labels(self):\n",
    "        return self.adapter.labels\n",
    "    \n",
    "    def __repr__(self):\n",
    "        return (\n",
    "            f'{self.__class__.__name__}('\n",
    "            f'{self.labels!r}'\n",
    "            f', adapter_type={self.adapter_type}'\n",
    "            f', max_label={self.max_label}'\n",
    "            f')'\n",
    "        )\n",
    "\n",
    "    def find_destination_label(self, *, picked):\n",
    "        cups = self.adapter\n",
    "        label = cups.current_label - 1\n",
    "        while label in picked or label < 1:\n",
    "            label -= 1\n",
    "            if label < 1:\n",
    "                label = cups.max_label\n",
    "        return label\n",
    "    \n",
    "    def move(self, *, n=3, verbose=False):\n",
    "        cups = self.adapter\n",
    "        picked = cups.pick(n=n)\n",
    "        destination_label = self.find_destination_label(picked=picked)\n",
    "        if verbose:\n",
    "            print(f'pick up: {picked}')\n",
    "            print(f'destination label: {destination_label}')\n",
    "            print()\n",
    "        cups.remove(picked=picked)\n",
    "        cups.insert(destination_label=destination_label, picked=picked)\n",
    "        cups.update_current()\n",
    "\n",
    "    def simulate(self, *, moves, cups=3, verbose=False):\n",
    "        for move in range(1, moves + 1):\n",
    "            if verbose:\n",
    "                print(f'move {move}')\n",
    "                print(f'current label: {self.current_label}')\n",
    "                print(f'cups: {self.labels}')\n",
    "            self.move(n=cups, verbose=verbose)"
   ]
  },
  {
   "cell_type": "code",
   "execution_count": 7,
   "metadata": {},
   "outputs": [],
   "source": [
    "cups1 = CupSimulator.from_str(DATA, adapter_type=CupPart1Adapter)"
   ]
  },
  {
   "cell_type": "code",
   "execution_count": 8,
   "metadata": {},
   "outputs": [],
   "source": [
    "cups1.simulate(moves=100)"
   ]
  },
  {
   "cell_type": "code",
   "execution_count": 9,
   "metadata": {},
   "outputs": [],
   "source": [
    "def part1_answer(cups, *, after=1):\n",
    "    s = ''.join(map(str, cups.labels))\n",
    "    i = s.find(str(after))\n",
    "    return s[(i+1):] + s[:i]"
   ]
  },
  {
   "cell_type": "code",
   "execution_count": 10,
   "metadata": {},
   "outputs": [
    {
     "data": {
      "text/plain": [
       "'43896725'"
      ]
     },
     "execution_count": 10,
     "metadata": {},
     "output_type": "execute_result"
    }
   ],
   "source": [
    "part1_answer(cups1)"
   ]
  },
  {
   "cell_type": "markdown",
   "metadata": {},
   "source": [
    "### Solution to Part 2"
   ]
  },
  {
   "cell_type": "code",
   "execution_count": 11,
   "metadata": {},
   "outputs": [],
   "source": [
    "class CupPart2Adapter:\n",
    "    def __init__(self, numbers, *, max_label=None):\n",
    "        self.labels = IndexedCircularLinkedList(numbers)\n",
    "        if max_label is not None:\n",
    "            self.max_label = max_label\n",
    "            for label in range(max(numbers) + 1, max_label + 1):\n",
    "                self.labels.append(label)\n",
    "        else:\n",
    "            self.max_label = max(numbers)\n",
    "        self.number = len(self.labels)\n",
    "        self.current = self.labels.head\n",
    "        self.current_label = self.current.value\n",
    "    \n",
    "    def __repr__(self):\n",
    "        return f'<{self.__class__.__name__} with {self.number} cups>'\n",
    "\n",
    "    def __str__(self):\n",
    "        assert len(self.labels) == 9\n",
    "        return str(self.labels)\n",
    "\n",
    "    def pick(self, *, n):\n",
    "        node = self.current.succ\n",
    "        picked = []\n",
    "        for _ in range(n):\n",
    "            picked.append(node.value)\n",
    "            node = node.succ\n",
    "        return picked\n",
    "    \n",
    "    def remove(self, *, picked):\n",
    "        for label in picked:\n",
    "            self.labels.remove(label)\n",
    "\n",
    "    def insert(self, *, destination_label, picked):\n",
    "        after = destination_label\n",
    "        for label in picked:\n",
    "            self.labels.insert(after, label)\n",
    "            after = label\n",
    "\n",
    "    def update_current(self):\n",
    "        self.current = self.current.succ\n",
    "        self.current_label = self.current.value"
   ]
  },
  {
   "cell_type": "code",
   "execution_count": 12,
   "metadata": {},
   "outputs": [],
   "source": [
    "cups2 = CupSimulator.from_str(\n",
    "    DATA,\n",
    "    max_label=1_000_000,\n",
    "    adapter_type=CupPart2Adapter)"
   ]
  },
  {
   "cell_type": "code",
   "execution_count": 13,
   "metadata": {},
   "outputs": [],
   "source": [
    "cups2.simulate(moves=10_000_000)"
   ]
  },
  {
   "cell_type": "code",
   "execution_count": 14,
   "metadata": {},
   "outputs": [],
   "source": [
    "def part2_answer(cups2, *, after=1):\n",
    "    node = cups2.labels.find(after)\n",
    "    return node.succ.value * node.succ.succ.value"
   ]
  },
  {
   "cell_type": "code",
   "execution_count": 15,
   "metadata": {},
   "outputs": [
    {
     "data": {
      "text/plain": [
       "2911418906"
      ]
     },
     "execution_count": 15,
     "metadata": {},
     "output_type": "execute_result"
    }
   ],
   "source": [
    "part2_answer(cups2)"
   ]
  },
  {
   "cell_type": "code",
   "execution_count": null,
   "metadata": {},
   "outputs": [],
   "source": []
  }
 ],
 "metadata": {
  "kernelspec": {
   "display_name": "Python 3",
   "language": "python",
   "name": "python3"
  },
  "language_info": {
   "codemirror_mode": {
    "name": "ipython",
    "version": 3
   },
   "file_extension": ".py",
   "mimetype": "text/x-python",
   "name": "python",
   "nbconvert_exporter": "python",
   "pygments_lexer": "ipython3",
   "version": "3.8.5"
  }
 },
 "nbformat": 4,
 "nbformat_minor": 4
}
