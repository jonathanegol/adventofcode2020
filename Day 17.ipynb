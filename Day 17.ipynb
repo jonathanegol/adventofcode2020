{
 "cells": [
  {
   "cell_type": "markdown",
   "metadata": {},
   "source": [
    "## Day 17\n",
    "\n",
    "https://adventofcode.com/2020/day/17"
   ]
  },
  {
   "cell_type": "code",
   "execution_count": 1,
   "metadata": {},
   "outputs": [],
   "source": [
    "import collections\n",
    "import itertools\n",
    "import typing"
   ]
  },
  {
   "cell_type": "code",
   "execution_count": 2,
   "metadata": {},
   "outputs": [],
   "source": [
    "import aocd"
   ]
  },
  {
   "cell_type": "code",
   "execution_count": 3,
   "metadata": {},
   "outputs": [],
   "source": [
    "ACTIVE = '#'\n",
    "INACTIVE = '.'"
   ]
  },
  {
   "cell_type": "code",
   "execution_count": 4,
   "metadata": {},
   "outputs": [
    {
     "data": {
      "text/plain": [
       "8"
      ]
     },
     "execution_count": 4,
     "metadata": {},
     "output_type": "execute_result"
    }
   ],
   "source": [
    "data = aocd.get_data(day=17, year=2020).splitlines()\n",
    "len(data)"
   ]
  },
  {
   "cell_type": "code",
   "execution_count": 5,
   "metadata": {},
   "outputs": [],
   "source": [
    "test_data = [\n",
    "    '.#.',\n",
    "    '..#',\n",
    "    '###',\n",
    "]"
   ]
  },
  {
   "cell_type": "code",
   "execution_count": 6,
   "metadata": {},
   "outputs": [],
   "source": [
    "class Point(typing.NamedTuple):\n",
    "    x: int\n",
    "    y: int\n",
    "    z: int\n",
    "        \n",
    "    def __repr__(self):\n",
    "        return f'({self.x}, {self.y}, {self.z})'\n",
    "    \n",
    "    def get_all_neighbors(self):\n",
    "        result = [\n",
    "            Point(self.x + i, self.y + j, self.z + k)\n",
    "            for i, j, k in itertools.product([-1, 0, 1], repeat=3)\n",
    "            if (i, j, k) != (0, 0, 0)\n",
    "        ]\n",
    "        assert len(result) == 26\n",
    "        return set(result)     "
   ]
  },
  {
   "cell_type": "code",
   "execution_count": 7,
   "metadata": {},
   "outputs": [],
   "source": [
    "class Grid(collections.abc.Set):\n",
    "    def __init__(self, active_cells):\n",
    "        self._active = set(active_cells)\n",
    "        self.x_min = min(c.x for c in self._active)\n",
    "        self.x_max = max(c.x for c in self._active)\n",
    "        self.y_min = min(c.y for c in self._active)\n",
    "        self.y_max = max(c.y for c in self._active)\n",
    "        self.z_min = min(c.z for c in self._active)\n",
    "        self.z_max = max(c.z for c in self._active)\n",
    "    \n",
    "    @classmethod\n",
    "    def from_lines(cls, lines):\n",
    "        values = {\n",
    "            Point(x=i, y=j, z=0): value\n",
    "            for j, row in enumerate(lines)\n",
    "            for i, value in enumerate(row)\n",
    "        }\n",
    "        active_cells = [\n",
    "            cell for cell in values\n",
    "            if values[cell] == ACTIVE\n",
    "        ]\n",
    "        return cls(active_cells)\n",
    "\n",
    "    def __contains__(self, cell: Point):\n",
    "        return cell in self._active\n",
    "\n",
    "    def __len__(self):\n",
    "        return len(self._active)\n",
    "    \n",
    "    def __iter__(self):\n",
    "        return iter(self._active)\n",
    "    \n",
    "    def is_active(self, cell: Point) -> bool:\n",
    "        return cell in self\n",
    "    \n",
    "    def is_inactive(self, cell: Point) -> bool:\n",
    "        return not cell in self\n",
    "    \n",
    "    @property\n",
    "    def active_cells(self):\n",
    "        return set(self._active)\n",
    "\n",
    "    @property\n",
    "    def potential_next_cells(self):\n",
    "        return set([\n",
    "            neighbor for cell in self\n",
    "            for neighbor in cell.get_all_neighbors()\n",
    "        ])\n",
    "\n",
    "    @property\n",
    "    def domain(self):\n",
    "        return (\n",
    "            (self.x_min, self.x_max),\n",
    "            (self.y_min, self.y_max),\n",
    "            (self.z_min, self.z_max),\n",
    "        )\n",
    "        \n",
    "    def __repr__(self):\n",
    "        x_range, y_range, z_range = self.domain\n",
    "        return (\n",
    "            f'<{self.__class__.__name__}('\n",
    "            f'x_range={x_range}'\n",
    "            f', y_range={y_range}'\n",
    "            f', z_range={z_range})>'\n",
    "        )\n",
    "    \n",
    "    def all_cells_for_layer(self, layer: int):\n",
    "        return [\n",
    "            [\n",
    "                Point(x, y, layer)\n",
    "                for x in range(self.x_min, self.x_max + 1)\n",
    "            ]\n",
    "            for y in range(self.y_min, self.y_max + 1)\n",
    "        ]\n",
    "\n",
    "    def print_layer(self, layer: int):\n",
    "        lines = [\n",
    "            ''.join(\n",
    "                    ACTIVE if self.is_active(cell) else INACTIVE\n",
    "                    for cell in row\n",
    "            )\n",
    "            for row in self.all_cells_for_layer(layer)\n",
    "        ]\n",
    "        print(*lines, sep='\\n')\n",
    "    \n",
    "    def count_active_neighbors(self, cell) -> int:\n",
    "        neighbors = set([\n",
    "            n for n in cell.get_all_neighbors()\n",
    "            if n in self\n",
    "        ])\n",
    "        return len([n for n in neighbors if self.is_active(n)])"
   ]
  },
  {
   "cell_type": "code",
   "execution_count": 8,
   "metadata": {},
   "outputs": [
    {
     "data": {
      "text/plain": [
       "<Grid(x_range=(0, 7), y_range=(0, 7), z_range=(0, 0))>"
      ]
     },
     "execution_count": 8,
     "metadata": {},
     "output_type": "execute_result"
    }
   ],
   "source": [
    "grid = Grid.from_lines(data)\n",
    "grid"
   ]
  },
  {
   "cell_type": "code",
   "execution_count": 9,
   "metadata": {},
   "outputs": [
    {
     "name": "stdout",
     "output_type": "stream",
     "text": [
      "#...#.#.\n",
      "..#.#.##\n",
      "..#..#..\n",
      ".....###\n",
      "...#.#.#\n",
      "#.#.##..\n",
      "#####...\n",
      ".#.#.##.\n"
     ]
    }
   ],
   "source": [
    "grid.print_layer(0)"
   ]
  },
  {
   "cell_type": "markdown",
   "metadata": {},
   "source": [
    "### Solution to Part 1"
   ]
  },
  {
   "cell_type": "code",
   "execution_count": 10,
   "metadata": {},
   "outputs": [],
   "source": [
    "def compute_new_cell(cell, *, grid) -> str:\n",
    "    n = grid.count_active_neighbors(cell)\n",
    "    if grid.is_active(cell):\n",
    "        return ACTIVE if n in (2, 3) else INACTIVE\n",
    "    elif grid.is_inactive(cell):\n",
    "        return ACTIVE if n == 3 else INACTIVE\n",
    "    else:\n",
    "        raise RuntimeError('cannot happen')"
   ]
  },
  {
   "cell_type": "code",
   "execution_count": 11,
   "metadata": {},
   "outputs": [],
   "source": [
    "def run_cycle(grid, *, grid_type=Grid):\n",
    "    return grid_type([\n",
    "        cell for cell in grid.potential_next_cells\n",
    "        if compute_new_cell(cell, grid=grid) == ACTIVE\n",
    "    ])"
   ]
  },
  {
   "cell_type": "code",
   "execution_count": 12,
   "metadata": {},
   "outputs": [],
   "source": [
    "def simulate(grid, *, n: int = 6, grid_type=Grid):\n",
    "    old_grid = grid_type(grid)\n",
    "    for _ in range(n):\n",
    "        new_grid = run_cycle(old_grid, grid_type=grid_type)\n",
    "        old_grid = grid_type(new_grid)\n",
    "    return new_grid"
   ]
  },
  {
   "cell_type": "code",
   "execution_count": 13,
   "metadata": {},
   "outputs": [
    {
     "data": {
      "text/plain": [
       "401"
      ]
     },
     "execution_count": 13,
     "metadata": {},
     "output_type": "execute_result"
    }
   ],
   "source": [
    "final_grid = simulate(grid)\n",
    "len(final_grid.active_cells)"
   ]
  },
  {
   "cell_type": "markdown",
   "metadata": {},
   "source": [
    "### Solution to Part 2"
   ]
  },
  {
   "cell_type": "code",
   "execution_count": 14,
   "metadata": {},
   "outputs": [],
   "source": [
    "class Point4D(typing.NamedTuple):\n",
    "    x: int\n",
    "    y: int\n",
    "    z: int\n",
    "    w: int\n",
    "        \n",
    "    def __repr__(self):\n",
    "        return f'({self.x}, {self.y}, {self.z}, {self.w})'\n",
    "    \n",
    "    def get_all_neighbors(self):\n",
    "        result = [\n",
    "            Point4D(self.x + i, self.y + j, self.z + k, self.w + m)\n",
    "            for i, j, k, m in itertools.product([-1, 0, 1], repeat=4)\n",
    "            if (i, j, k, m) != (0, 0, 0, 0)\n",
    "        ]\n",
    "        assert len(result) == 80\n",
    "        return set(result)     "
   ]
  },
  {
   "cell_type": "code",
   "execution_count": 15,
   "metadata": {},
   "outputs": [],
   "source": [
    "class Grid4D(collections.abc.Set):\n",
    "    def __init__(self, active_cells):\n",
    "        self._active = set(active_cells)\n",
    "        self.x_min = min(c.x for c in self._active)\n",
    "        self.x_max = max(c.x for c in self._active)\n",
    "        self.y_min = min(c.y for c in self._active)\n",
    "        self.y_max = max(c.y for c in self._active)\n",
    "        self.z_min = min(c.z for c in self._active)\n",
    "        self.z_max = max(c.z for c in self._active)\n",
    "        self.w_min = min(c.w for c in self._active)\n",
    "        self.w_max = max(c.w for c in self._active)\n",
    "\n",
    "    \n",
    "    @classmethod\n",
    "    def from_lines(cls, lines):\n",
    "        values = {\n",
    "            Point4D(x=i, y=j, z=0, w=0): value\n",
    "            for j, row in enumerate(lines)\n",
    "            for i, value in enumerate(row)\n",
    "        }\n",
    "        active_cells = [\n",
    "            cell for cell in values\n",
    "            if values[cell] == ACTIVE\n",
    "        ]\n",
    "        return cls(active_cells)\n",
    "\n",
    "    def __contains__(self, cell: Point):\n",
    "        return cell in self._active\n",
    "\n",
    "    def __len__(self):\n",
    "        return len(self._active)\n",
    "    \n",
    "    def __iter__(self):\n",
    "        return iter(self._active)\n",
    "    \n",
    "    def is_active(self, cell: Point) -> bool:\n",
    "        return cell in self\n",
    "    \n",
    "    def is_inactive(self, cell: Point) -> bool:\n",
    "        return not cell in self\n",
    "    \n",
    "    @property\n",
    "    def active_cells(self):\n",
    "        return set(self._active)\n",
    "\n",
    "    @property\n",
    "    def potential_next_cells(self):\n",
    "        return set([\n",
    "            neighbor for cell in self\n",
    "            for neighbor in cell.get_all_neighbors()\n",
    "        ])\n",
    "\n",
    "    @property\n",
    "    def domain(self):\n",
    "        return (\n",
    "            (self.x_min, self.x_max),\n",
    "            (self.y_min, self.y_max),\n",
    "            (self.z_min, self.z_max),\n",
    "            (self.w_min, self.w_max),\n",
    "        )\n",
    "        \n",
    "    def __repr__(self):\n",
    "        x_range, y_range, z_range, w_range = self.domain\n",
    "        return (\n",
    "            f'<{self.__class__.__name__}('\n",
    "            f'x_range={x_range}'\n",
    "            f', y_range={y_range}'\n",
    "            f', z_range={z_range}'\n",
    "            f', w_range={w_range})>'\n",
    "        )\n",
    "    \n",
    "    def all_cells_for_layer(self, *, z: int, w: int):\n",
    "        return [\n",
    "            [\n",
    "                Point4D(x, y, z, w)\n",
    "                for x in range(self.x_min, self.x_max + 1)\n",
    "            ]\n",
    "            for y in range(self.y_min, self.y_max + 1)\n",
    "        ]\n",
    "\n",
    "    def print_layer(self, *, z: int, w: int):\n",
    "        lines = [\n",
    "            ''.join(\n",
    "                    ACTIVE if self.is_active(cell) else INACTIVE\n",
    "                    for cell in row\n",
    "            )\n",
    "            for row in self.all_cells_for_layer(z=z, w=w)\n",
    "        ]\n",
    "        print(*lines, sep='\\n')\n",
    "    \n",
    "    def count_active_neighbors(self, cell) -> int:\n",
    "        neighbors = set([\n",
    "            n for n in cell.get_all_neighbors()\n",
    "            if n in self\n",
    "        ])\n",
    "        return len([n for n in neighbors if self.is_active(n)])"
   ]
  },
  {
   "cell_type": "code",
   "execution_count": 16,
   "metadata": {},
   "outputs": [
    {
     "data": {
      "text/plain": [
       "<Grid4D(x_range=(0, 7), y_range=(0, 7), z_range=(0, 0), w_range=(0, 0))>"
      ]
     },
     "execution_count": 16,
     "metadata": {},
     "output_type": "execute_result"
    }
   ],
   "source": [
    "grid4D = Grid4D.from_lines(data)\n",
    "grid4D"
   ]
  },
  {
   "cell_type": "code",
   "execution_count": 17,
   "metadata": {},
   "outputs": [
    {
     "data": {
      "text/plain": [
       "2224"
      ]
     },
     "execution_count": 17,
     "metadata": {},
     "output_type": "execute_result"
    }
   ],
   "source": [
    "final_grid = simulate(grid4D, grid_type=Grid4D)\n",
    "len(final_grid.active_cells)"
   ]
  },
  {
   "cell_type": "code",
   "execution_count": null,
   "metadata": {},
   "outputs": [],
   "source": []
  }
 ],
 "metadata": {
  "kernelspec": {
   "display_name": "Python 3",
   "language": "python",
   "name": "python3"
  },
  "language_info": {
   "codemirror_mode": {
    "name": "ipython",
    "version": 3
   },
   "file_extension": ".py",
   "mimetype": "text/x-python",
   "name": "python",
   "nbconvert_exporter": "python",
   "pygments_lexer": "ipython3",
   "version": "3.8.5"
  }
 },
 "nbformat": 4,
 "nbformat_minor": 4
}
