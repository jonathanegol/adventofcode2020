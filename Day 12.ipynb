{
 "cells": [
  {
   "cell_type": "markdown",
   "metadata": {},
   "source": [
    "## Day 12\n",
    "\n",
    "https://adventofcode.com/2020/day/12"
   ]
  },
  {
   "cell_type": "code",
   "execution_count": 1,
   "metadata": {},
   "outputs": [],
   "source": [
    "import aocd"
   ]
  },
  {
   "cell_type": "code",
   "execution_count": 2,
   "metadata": {},
   "outputs": [],
   "source": [
    "test_data = \"\"\"\n",
    "F10\n",
    "N3\n",
    "F7\n",
    "R90\n",
    "F11\n",
    "\"\"\""
   ]
  },
  {
   "cell_type": "code",
   "execution_count": 3,
   "metadata": {},
   "outputs": [],
   "source": [
    "aocd_data = aocd.get_data(day=12, year=2020)"
   ]
  },
  {
   "cell_type": "code",
   "execution_count": 4,
   "metadata": {},
   "outputs": [],
   "source": [
    "def parse_data(lines):\n",
    "    return [\n",
    "        (line[0], int(line[1:]))\n",
    "        for line in lines.splitlines()\n",
    "        if line\n",
    "    ]"
   ]
  },
  {
   "cell_type": "code",
   "execution_count": 5,
   "metadata": {},
   "outputs": [],
   "source": [
    "data = parse_data(aocd_data)"
   ]
  },
  {
   "cell_type": "code",
   "execution_count": 6,
   "metadata": {},
   "outputs": [],
   "source": [
    "DIRECTIONS = {\n",
    "    'E': (1, 0),\n",
    "    'N': (0, 1),\n",
    "    'W': (-1, 0),\n",
    "    'S': (0, -1),\n",
    "}"
   ]
  },
  {
   "cell_type": "code",
   "execution_count": 7,
   "metadata": {},
   "outputs": [],
   "source": [
    "def forward(*, x, y, facing: str, steps: int) -> tuple:\n",
    "    dx, dy = DIRECTIONS[facing]\n",
    "    return (x + (dx * steps)), (y + (dy * steps))"
   ]
  },
  {
   "cell_type": "code",
   "execution_count": 8,
   "metadata": {},
   "outputs": [],
   "source": [
    "def turn(left_right, *, facing: str, degrees: int) -> str:\n",
    "    assert degrees % 90 == 0\n",
    "    assert left_right in 'LR'\n",
    "    headings = list(DIRECTIONS.keys())\n",
    "    start = headings.index(facing)\n",
    "    rotations = degrees // 90\n",
    "    direction = -1 if left_right == 'R' else 1\n",
    "    end = (start + (direction * rotations)) % 4\n",
    "    return headings[end]"
   ]
  },
  {
   "cell_type": "markdown",
   "metadata": {},
   "source": [
    "### Solution to Part 1"
   ]
  },
  {
   "cell_type": "code",
   "execution_count": 9,
   "metadata": {},
   "outputs": [],
   "source": [
    "def move(data, *, x=0, y=0, facing='E') -> tuple:\n",
    "    for command, value in data:\n",
    "        if command == 'F':\n",
    "            x, y = forward(x=x, y=y, facing=facing, steps=value)\n",
    "        elif command in 'ENWS':\n",
    "            dx, dy = DIRECTIONS[command]\n",
    "            x += dx * value\n",
    "            y += dy * value\n",
    "        elif command in 'LR':\n",
    "            facing = turn(command, facing=facing, degrees=value)\n",
    "        else:\n",
    "            raise ValueError('invalid command', command)\n",
    "    return x, y"
   ]
  },
  {
   "cell_type": "code",
   "execution_count": 10,
   "metadata": {},
   "outputs": [
    {
     "data": {
      "text/plain": [
       "882"
      ]
     },
     "execution_count": 10,
     "metadata": {},
     "output_type": "execute_result"
    }
   ],
   "source": [
    "dx, dy = move(data)\n",
    "abs(dx) + abs(dy)"
   ]
  },
  {
   "cell_type": "markdown",
   "metadata": {},
   "source": [
    "### Solution to Part 2"
   ]
  },
  {
   "cell_type": "code",
   "execution_count": 11,
   "metadata": {},
   "outputs": [],
   "source": [
    "def rotate_waypoint(left_right, *, degrees: int, wx, wy) -> tuple:\n",
    "    assert degrees % 90 == 0\n",
    "    assert degrees > 0\n",
    "    assert left_right in 'LR'\n",
    "    rotations = degrees // 90\n",
    "    while rotations:\n",
    "        wx, wy = (wy, -wx) if left_right == 'R' else (-wy, wx)\n",
    "        rotations -= 1\n",
    "    return wx, wy"
   ]
  },
  {
   "cell_type": "code",
   "execution_count": 12,
   "metadata": {},
   "outputs": [],
   "source": [
    "def move2(data, *, x=0, y=0, facing='E', wx=10, wy=1) -> tuple:\n",
    "    for command, value in data:\n",
    "        if command == 'F':\n",
    "            x += wx * value\n",
    "            y += wy * value\n",
    "        elif command in 'ENWS':\n",
    "            dx, dy = DIRECTIONS[command]\n",
    "            wx += dx * value\n",
    "            wy += dy * value\n",
    "        elif command in 'LR':\n",
    "            wx, wy = rotate_waypoint(command, degrees=value, wx=wx, wy=wy)\n",
    "        else:\n",
    "            raise ValueError('invalid command', command)\n",
    "    return x,y"
   ]
  },
  {
   "cell_type": "code",
   "execution_count": 13,
   "metadata": {},
   "outputs": [
    {
     "data": {
      "text/plain": [
       "28885"
      ]
     },
     "execution_count": 13,
     "metadata": {},
     "output_type": "execute_result"
    }
   ],
   "source": [
    "dx, dy = move2(data)\n",
    "abs(dx) + abs(dy)"
   ]
  }
 ],
 "metadata": {
  "kernelspec": {
   "display_name": "Python 3",
   "language": "python",
   "name": "python3"
  },
  "language_info": {
   "codemirror_mode": {
    "name": "ipython",
    "version": 3
   },
   "file_extension": ".py",
   "mimetype": "text/x-python",
   "name": "python",
   "nbconvert_exporter": "python",
   "pygments_lexer": "ipython3",
   "version": "3.8.5"
  }
 },
 "nbformat": 4,
 "nbformat_minor": 4
}
