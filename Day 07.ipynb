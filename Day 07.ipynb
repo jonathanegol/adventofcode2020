{
 "cells": [
  {
   "cell_type": "code",
   "execution_count": 1,
   "metadata": {},
   "outputs": [],
   "source": [
    "import collections\n",
    "import re"
   ]
  },
  {
   "cell_type": "code",
   "execution_count": 2,
   "metadata": {},
   "outputs": [],
   "source": [
    "import aocd"
   ]
  },
  {
   "cell_type": "code",
   "execution_count": 3,
   "metadata": {},
   "outputs": [
    {
     "data": {
      "text/plain": [
       "594"
      ]
     },
     "execution_count": 3,
     "metadata": {},
     "output_type": "execute_result"
    }
   ],
   "source": [
    "rules = aocd.get_data(day=7, year=2020).splitlines()\n",
    "len(rules)"
   ]
  },
  {
   "cell_type": "code",
   "execution_count": 4,
   "metadata": {},
   "outputs": [
    {
     "data": {
      "text/plain": [
       "'vibrant fuchsia bags contain 2 dark lime bags, 2 mirrored black bags, 2 light magenta bags, 2 drab chartreuse bags.'"
      ]
     },
     "execution_count": 4,
     "metadata": {},
     "output_type": "execute_result"
    }
   ],
   "source": [
    "rules[4]"
   ]
  },
  {
   "cell_type": "code",
   "execution_count": 5,
   "metadata": {},
   "outputs": [],
   "source": [
    "def parse_rules(rules):\n",
    "    for line in rules:\n",
    "        adj, color, *ignore = line.split(' ')\n",
    "        bag = f'{adj} {color}'\n",
    "        holds = re.findall('(\\d) ([a-z ]*) bag', line)\n",
    "        yield bag, holds"
   ]
  },
  {
   "cell_type": "code",
   "execution_count": 6,
   "metadata": {},
   "outputs": [
    {
     "data": {
      "text/plain": [
       "[('clear maroon', [('1', 'dull lavender')]),\n",
       " ('wavy turquoise',\n",
       "  [('4', 'vibrant magenta'),\n",
       "   ('4', 'light violet'),\n",
       "   ('5', 'bright gold'),\n",
       "   ('2', 'faded black')]),\n",
       " ('wavy beige',\n",
       "  [('3', 'plaid magenta'),\n",
       "   ('3', 'wavy lime'),\n",
       "   ('2', 'clear turquoise'),\n",
       "   ('3', 'muted cyan')]),\n",
       " ('mirrored black',\n",
       "  [('1', 'plaid red'), ('3', 'light gold'), ('3', 'wavy violet')]),\n",
       " ('vibrant fuchsia',\n",
       "  [('2', 'dark lime'),\n",
       "   ('2', 'mirrored black'),\n",
       "   ('2', 'light magenta'),\n",
       "   ('2', 'drab chartreuse')])]"
      ]
     },
     "execution_count": 6,
     "metadata": {},
     "output_type": "execute_result"
    }
   ],
   "source": [
    "list(parse_rules(rules))[:5]"
   ]
  },
  {
   "cell_type": "markdown",
   "metadata": {},
   "source": [
    "### Solution to Part 1"
   ]
  },
  {
   "cell_type": "code",
   "execution_count": 7,
   "metadata": {},
   "outputs": [],
   "source": [
    "def may_be_inside(rules):\n",
    "    dd = collections.defaultdict(list)\n",
    "    for bag, holds in parse_rules(rules):\n",
    "        for hold in holds:\n",
    "            dd[hold[1]].append(bag)\n",
    "    return dd"
   ]
  },
  {
   "cell_type": "code",
   "execution_count": 8,
   "metadata": {},
   "outputs": [
    {
     "data": {
      "text/plain": [
       "['wavy turquoise', 'muted purple', 'muted blue']"
      ]
     },
     "execution_count": 8,
     "metadata": {},
     "output_type": "execute_result"
    }
   ],
   "source": [
    "may_be_inside(rules)['faded black']"
   ]
  },
  {
   "cell_type": "code",
   "execution_count": 9,
   "metadata": {},
   "outputs": [],
   "source": [
    "def eventually_may_hold(bag, *, rules):\n",
    "    allowed = may_be_inside(rules)\n",
    "    stack = [bag]\n",
    "    seen = set()\n",
    "    while stack:\n",
    "        top = stack.pop()\n",
    "        seen.add(top)\n",
    "        for kind in allowed[top]:\n",
    "            stack.append(kind)\n",
    "    seen.remove(bag)  # don't want to include our original target bag\n",
    "    return seen"
   ]
  },
  {
   "cell_type": "code",
   "execution_count": 10,
   "metadata": {},
   "outputs": [
    {
     "data": {
      "text/plain": [
       "126"
      ]
     },
     "execution_count": 10,
     "metadata": {},
     "output_type": "execute_result"
    }
   ],
   "source": [
    "len(eventually_may_hold('shiny gold', rules=rules))"
   ]
  },
  {
   "cell_type": "markdown",
   "metadata": {},
   "source": [
    "### Solution to Part 2"
   ]
  },
  {
   "cell_type": "code",
   "execution_count": 11,
   "metadata": {},
   "outputs": [],
   "source": [
    "def must_hold(rules):\n",
    "    dd = collections.defaultdict(list)\n",
    "    for bag, holds in parse_rules(rules):\n",
    "        for hold in holds:\n",
    "            dd[bag].append(hold)\n",
    "    return dd"
   ]
  },
  {
   "cell_type": "code",
   "execution_count": 12,
   "metadata": {},
   "outputs": [
    {
     "data": {
      "text/plain": [
       "[('3', 'vibrant orange'), ('3', 'plaid silver')]"
      ]
     },
     "execution_count": 12,
     "metadata": {},
     "output_type": "execute_result"
    }
   ],
   "source": [
    "holds = must_hold(rules)\n",
    "holds['shiny gold']"
   ]
  },
  {
   "cell_type": "code",
   "execution_count": 13,
   "metadata": {},
   "outputs": [],
   "source": [
    "def count_bags(bag, *, holds):\n",
    "    count = 1\n",
    "    for hold in holds[bag]:\n",
    "        n = int(hold[0])\n",
    "        kind = hold[1]\n",
    "        count += (n * count_bags(kind, holds=holds))\n",
    "    return count"
   ]
  },
  {
   "cell_type": "code",
   "execution_count": 14,
   "metadata": {},
   "outputs": [
    {
     "data": {
      "text/plain": [
       "220150"
      ]
     },
     "execution_count": 14,
     "metadata": {},
     "output_type": "execute_result"
    }
   ],
   "source": [
    "count_bags('shiny gold', holds=holds)\n",
    "# answer is this minus 1 (includes the 'shiny gold' bag too)"
   ]
  },
  {
   "cell_type": "code",
   "execution_count": null,
   "metadata": {},
   "outputs": [],
   "source": []
  }
 ],
 "metadata": {
  "kernelspec": {
   "display_name": "Python 3",
   "language": "python",
   "name": "python3"
  },
  "language_info": {
   "codemirror_mode": {
    "name": "ipython",
    "version": 3
   },
   "file_extension": ".py",
   "mimetype": "text/x-python",
   "name": "python",
   "nbconvert_exporter": "python",
   "pygments_lexer": "ipython3",
   "version": "3.8.5"
  }
 },
 "nbformat": 4,
 "nbformat_minor": 4
}
