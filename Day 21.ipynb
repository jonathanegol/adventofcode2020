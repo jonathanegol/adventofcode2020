{
 "cells": [
  {
   "cell_type": "markdown",
   "metadata": {},
   "source": [
    "## Day 21\n",
    "\n",
    "https://adventofcode.com/2020/day/21"
   ]
  },
  {
   "cell_type": "code",
   "execution_count": 1,
   "metadata": {},
   "outputs": [],
   "source": [
    "import collections"
   ]
  },
  {
   "cell_type": "code",
   "execution_count": 2,
   "metadata": {},
   "outputs": [],
   "source": [
    "import aocd"
   ]
  },
  {
   "cell_type": "code",
   "execution_count": 3,
   "metadata": {},
   "outputs": [],
   "source": [
    "test_data = \"\"\"\n",
    "mxmxvkd kfcds sqjhc nhms (contains dairy, fish)\n",
    "trh fvjkl sbzzf mxmxvkd (contains dairy)\n",
    "sqjhc fvjkl (contains soy)\n",
    "sqjhc mxmxvkd sbzzf (contains fish)\n",
    "\"\"\""
   ]
  },
  {
   "cell_type": "code",
   "execution_count": 4,
   "metadata": {},
   "outputs": [
    {
     "data": {
      "text/plain": [
       "34"
      ]
     },
     "execution_count": 4,
     "metadata": {},
     "output_type": "execute_result"
    }
   ],
   "source": [
    "foods = aocd.get_data(day=21, year=2020).splitlines()\n",
    "# foods = test_data.splitlines()[1:]\n",
    "len(foods)"
   ]
  },
  {
   "cell_type": "code",
   "execution_count": 5,
   "metadata": {},
   "outputs": [],
   "source": [
    "def parse_food(data):\n",
    "    for food in data:\n",
    "        ingredients, allergens = food.split(' (contains ')\n",
    "        allergens = allergens[:-1].split(', ')\n",
    "        ingredients = ingredients.split(' ')\n",
    "        yield ingredients, allergens"
   ]
  },
  {
   "cell_type": "code",
   "execution_count": 6,
   "metadata": {},
   "outputs": [],
   "source": [
    "def process_food(data):\n",
    "    maybe = {}\n",
    "    all_ingredients = collections.Counter()\n",
    "    for ingredients, allergens in parse_food(data):\n",
    "        all_ingredients.update(ingredients)\n",
    "        for allergen in allergens:\n",
    "            if allergen in maybe:\n",
    "                maybe[allergen] &= set(ingredients)\n",
    "            else:\n",
    "                maybe[allergen] = set(ingredients)\n",
    "    return all_ingredients, maybe"
   ]
  },
  {
   "cell_type": "markdown",
   "metadata": {},
   "source": [
    "### Solution to Part 1"
   ]
  },
  {
   "cell_type": "code",
   "execution_count": 7,
   "metadata": {},
   "outputs": [],
   "source": [
    "def count_safe_ingredients(data):\n",
    "    ingredient_count, maybe_allergens = process_food(data)\n",
    "    exclude = set(item for s in maybe_allergens.values() for item in s)\n",
    "    return [\n",
    "        (ingredient, count)\n",
    "        for ingredient, count in ingredient_count.items()\n",
    "        if ingredient not in exclude\n",
    "    ]"
   ]
  },
  {
   "cell_type": "code",
   "execution_count": 8,
   "metadata": {},
   "outputs": [
    {
     "data": {
      "text/plain": [
       "1930"
      ]
     },
     "execution_count": 8,
     "metadata": {},
     "output_type": "execute_result"
    }
   ],
   "source": [
    "sum(ingredient[1] for ingredient in count_safe_ingredients(foods))"
   ]
  },
  {
   "cell_type": "markdown",
   "metadata": {},
   "source": [
    "### Solution to Part 2"
   ]
  },
  {
   "cell_type": "code",
   "execution_count": 9,
   "metadata": {},
   "outputs": [],
   "source": [
    "def get_ingredients(data):\n",
    "    all_ingredients, unsure = process_food(data)\n",
    "    all_ingredients = set(all_ingredients.keys())\n",
    "    safe_ingredients = set(x[0] for x in count_safe_ingredients(data))\n",
    "    return all_ingredients, safe_ingredients, unsure"
   ]
  },
  {
   "cell_type": "code",
   "execution_count": 10,
   "metadata": {},
   "outputs": [],
   "source": [
    "def identify_allergens(data):\n",
    "    all_ingredients, safe_ingredients, unsure = get_ingredients(data)\n",
    "    to_remove = collections.deque()\n",
    "    identified = dict()\n",
    "    for allergen, candidates in unsure.items():\n",
    "        if len(candidates) == 1:\n",
    "            to_remove.append(allergen)\n",
    "            identified[allergen] = next(iter(candidates))\n",
    "    while to_remove:\n",
    "        identified_allergen = to_remove.popleft()\n",
    "        ingredient = next(iter(unsure[identified_allergen]))\n",
    "        for allergen in unsure:\n",
    "            if allergen != identified_allergen:\n",
    "                unsure[allergen].discard(ingredient)\n",
    "            if len(unsure[allergen]) == 1 and allergen not in identified:\n",
    "                to_remove.append(allergen)\n",
    "                identified[allergen] = next(iter(unsure[allergen]))\n",
    "    return identified"
   ]
  },
  {
   "cell_type": "code",
   "execution_count": 11,
   "metadata": {},
   "outputs": [
    {
     "data": {
      "text/plain": [
       "{'dairy': 'spcqmzfg',\n",
       " 'shellfish': 'spql',\n",
       " 'sesame': 'xbdh',\n",
       " 'peanuts': 'bltrbvz',\n",
       " 'fish': 'dzqlq',\n",
       " 'eggs': 'rpf',\n",
       " 'wheat': 'bltzkxx',\n",
       " 'nuts': 'pflk'}"
      ]
     },
     "execution_count": 11,
     "metadata": {},
     "output_type": "execute_result"
    }
   ],
   "source": [
    "allergens = identify_allergens(foods)\n",
    "allergens"
   ]
  },
  {
   "cell_type": "code",
   "execution_count": 12,
   "metadata": {},
   "outputs": [
    {
     "data": {
      "text/plain": [
       "'spcqmzfg,rpf,dzqlq,pflk,bltrbvz,xbdh,spql,bltzkxx'"
      ]
     },
     "execution_count": 12,
     "metadata": {},
     "output_type": "execute_result"
    }
   ],
   "source": [
    "','.join(value for key, value in sorted(allergens.items()))"
   ]
  },
  {
   "cell_type": "code",
   "execution_count": null,
   "metadata": {},
   "outputs": [],
   "source": []
  }
 ],
 "metadata": {
  "kernelspec": {
   "display_name": "Python 3",
   "language": "python",
   "name": "python3"
  },
  "language_info": {
   "codemirror_mode": {
    "name": "ipython",
    "version": 3
   },
   "file_extension": ".py",
   "mimetype": "text/x-python",
   "name": "python",
   "nbconvert_exporter": "python",
   "pygments_lexer": "ipython3",
   "version": "3.8.5"
  }
 },
 "nbformat": 4,
 "nbformat_minor": 4
}
