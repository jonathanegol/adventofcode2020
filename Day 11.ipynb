{
 "cells": [
  {
   "cell_type": "markdown",
   "metadata": {},
   "source": [
    "## Day 11\n",
    "\n",
    "https://adventofcode.com/2020/day/11"
   ]
  },
  {
   "cell_type": "code",
   "execution_count": 1,
   "metadata": {},
   "outputs": [],
   "source": [
    "import copy"
   ]
  },
  {
   "cell_type": "code",
   "execution_count": 2,
   "metadata": {},
   "outputs": [],
   "source": [
    "import aocd"
   ]
  },
  {
   "cell_type": "code",
   "execution_count": 3,
   "metadata": {},
   "outputs": [],
   "source": [
    "test_data = \"\"\"\n",
    "L.LL.LL.LL\n",
    "LLLLLLL.LL\n",
    "L.L.L..L..\n",
    "LLLL.LL.LL\n",
    "L.LL.LL.LL\n",
    "L.LLLLL.LL\n",
    "..L.L.....\n",
    "LLLLLLLLLL\n",
    "L.LLLLLL.L\n",
    "L.LLLLL.LL\n",
    "\"\"\""
   ]
  },
  {
   "cell_type": "code",
   "execution_count": 4,
   "metadata": {},
   "outputs": [],
   "source": [
    "def split_data(raw):\n",
    "    return [\n",
    "        list(row.strip())\n",
    "        for row in raw.splitlines()\n",
    "        if row\n",
    "    ]"
   ]
  },
  {
   "cell_type": "code",
   "execution_count": 5,
   "metadata": {},
   "outputs": [
    {
     "data": {
      "text/plain": [
       "98"
      ]
     },
     "execution_count": 5,
     "metadata": {},
     "output_type": "execute_result"
    }
   ],
   "source": [
    "# data = split_data(test_data)\n",
    "data = split_data(aocd.get_data(day=11, year=2020))\n",
    "len(data)"
   ]
  },
  {
   "cell_type": "code",
   "execution_count": 6,
   "metadata": {},
   "outputs": [],
   "source": [
    "EMPTY = 'L'\n",
    "OCCUPIED = '#'\n",
    "FLOOR = '.'"
   ]
  },
  {
   "cell_type": "code",
   "execution_count": 7,
   "metadata": {},
   "outputs": [],
   "source": [
    "class SeatMap:\n",
    "    DIRECTIONS = (\n",
    "        (-1, 0),  # left\n",
    "        (1, 0),   # right\n",
    "        (0, 1),   # up\n",
    "        (0, -1),  # down\n",
    "        (1, 1),   # upper-right\n",
    "        (1, -1),  # lower-right\n",
    "        (-1, 1),  # upper-left\n",
    "        (-1, -1), # lower-left\n",
    "    )\n",
    "    \n",
    "    def __init__(self, data, *, adjacency_rule):\n",
    "        self.data = copy.deepcopy(data)\n",
    "        self.adjacency_rule = adjacency_rule\n",
    "        self.rows = len(data)\n",
    "\n",
    "    @classmethod\n",
    "    def copy(cls, seat_map):\n",
    "        return cls(seat_map.data, adjacency_rule=seat_map.adjacency_rule)\n",
    "\n",
    "    def cols(self, row) -> int:\n",
    "        return len(self.data[row])\n",
    "    \n",
    "    def __eq__(self, other):\n",
    "        if not isinstance(other, SeatMap):\n",
    "            return False\n",
    "        return self.data == other.data\n",
    "    \n",
    "    @property\n",
    "    def seats(self):\n",
    "        for row in range(self.rows):\n",
    "            for col in range(self.cols(row)):\n",
    "                yield row, col\n",
    "    \n",
    "    def is_valid_seat(self, row, col) -> bool:\n",
    "        return (0 <= row < self.rows) and (0 <= col < self.cols(row))\n",
    "    \n",
    "    def current(self, row, col) -> str:\n",
    "        return self.data[row][col]\n",
    "\n",
    "    def change(self, row, col, value) -> None:\n",
    "        self.data[row][col] = value\n",
    "\n",
    "    def is_empty(self, row, col) -> bool:\n",
    "        return self.current(row, col) == EMPTY\n",
    "    \n",
    "    def is_occupied(self, row, col) -> bool:\n",
    "        return self.current(row, col) == OCCUPIED\n",
    "    \n",
    "    def is_floor(self, row, col) -> bool:\n",
    "        return self.current(row, col) == FLOOR\n",
    "    \n",
    "    @staticmethod\n",
    "    def new_seat(row, col, direction) -> tuple:\n",
    "        dx, dy = direction\n",
    "        return row + dy, col + dx\n",
    "    \n",
    "    def find_adjacent_seat(self, row, col, direction, *, verbose=False):\n",
    "        return self.adjacency_rule(self, row, col, direction, verbose=verbose)\n",
    "\n",
    "    def adjacent_seats(self, row, col, *, verbose=False):\n",
    "        for d in self.DIRECTIONS:\n",
    "            seat = self.find_adjacent_seat(row, col, d, verbose=verbose)\n",
    "            if seat:\n",
    "                yield seat\n",
    "    \n",
    "    def count(self, value) -> int:\n",
    "        return sum(row.count(value) for row in self.data)\n",
    "    \n",
    "    def count_occupied_adjacent(self, row, col, *, verbose=False):\n",
    "        return sum(\n",
    "            self.is_occupied(x, y)\n",
    "            for x, y in self.adjacent_seats(row, col, verbose=verbose)\n",
    "        )"
   ]
  },
  {
   "cell_type": "code",
   "execution_count": 8,
   "metadata": {},
   "outputs": [],
   "source": [
    "def seat_change(seat_map, row, col, *, threshold) -> str:\n",
    "    current = seat_map.current(row, col)\n",
    "    occupied = seat_map.is_occupied(row, col)\n",
    "    empty = seat_map.is_empty(row, col)\n",
    "    occupied_adjacent = seat_map.count_occupied_adjacent(row, col)\n",
    "    if empty and occupied_adjacent == 0:\n",
    "        return OCCUPIED\n",
    "    if occupied and occupied_adjacent >= threshold:\n",
    "        return EMPTY\n",
    "    return current"
   ]
  },
  {
   "cell_type": "code",
   "execution_count": 9,
   "metadata": {},
   "outputs": [],
   "source": [
    "def update(seat_map, *, threshold) -> SeatMap:\n",
    "    new_seat_map = SeatMap.copy(seat_map)  # makes a deep copy\n",
    "    for row, col in new_seat_map.seats:\n",
    "        # note: simultaneous changes, so use \"old\" map held constant\n",
    "        new_value = seat_change(seat_map, row, col, threshold=threshold)\n",
    "        new_seat_map.change(row, col, new_value)\n",
    "    return new_seat_map"
   ]
  },
  {
   "cell_type": "code",
   "execution_count": 10,
   "metadata": {},
   "outputs": [],
   "source": [
    "class IterationLimitError(RuntimeError):\n",
    "    def __init__(self, msg, progress):\n",
    "        super().__init__(msg)\n",
    "        self.progress = progress"
   ]
  },
  {
   "cell_type": "code",
   "execution_count": 11,
   "metadata": {},
   "outputs": [],
   "source": [
    "class ProgressSaver:\n",
    "    def __init__(self):\n",
    "        self.progress = []\n",
    "        \n",
    "    def __repr__(self):\n",
    "        return repr(self.progress)\n",
    "        \n",
    "    def append(self, count: int, old_map: SeatMap, new_map: SeatMap) -> None:\n",
    "        empty = old_map.count(EMPTY)\n",
    "        occ = old_map.count(OCCUPIED)\n",
    "        new_empty = new_map.count(EMPTY)\n",
    "        new_occ = new_map.count(OCCUPIED)\n",
    "        self.progress.append((count, (empty, occ), (new_empty, new_occ)))"
   ]
  },
  {
   "cell_type": "code",
   "execution_count": 12,
   "metadata": {},
   "outputs": [],
   "source": [
    "def iterate(seat_map, *, threshold, limit):\n",
    "    seat_map = SeatMap.copy(seat_map)\n",
    "    count = 0\n",
    "    progress = ProgressSaver()\n",
    "    while count < limit:\n",
    "        count += 1\n",
    "        new_seat_map = update(seat_map, threshold=threshold)\n",
    "        progress.append(count, seat_map, new_seat_map)\n",
    "        if new_seat_map == seat_map:\n",
    "            return new_seat_map\n",
    "        seat_map = SeatMap.copy(new_seat_map)\n",
    "    raise IterationLimitError('hit limit', progress)"
   ]
  },
  {
   "cell_type": "markdown",
   "metadata": {},
   "source": [
    "### Solution to Part 1"
   ]
  },
  {
   "cell_type": "code",
   "execution_count": 13,
   "metadata": {},
   "outputs": [],
   "source": [
    "def adjacent_seat_rule(seat_map, row, col, direction, *, verbose=False):\n",
    "    row, col = seat_map.new_seat(row, col, direction)\n",
    "    if seat_map.is_valid_seat(row, col) and not seat_map.is_floor(row, col):\n",
    "        return row, col\n",
    "    return None"
   ]
  },
  {
   "cell_type": "code",
   "execution_count": 14,
   "metadata": {},
   "outputs": [],
   "source": [
    "def run(data, *, adjacency_rule, threshold=4, limit=200):\n",
    "    seat_map = SeatMap(data, adjacency_rule=adjacency_rule)\n",
    "    try:\n",
    "        new_seat_map = iterate(seat_map, threshold=threshold, limit=limit)\n",
    "    except RuntimeError as exc:\n",
    "        progress = exc.progress\n",
    "        raise\n",
    "    return new_seat_map.count(OCCUPIED)"
   ]
  },
  {
   "cell_type": "code",
   "execution_count": 15,
   "metadata": {},
   "outputs": [
    {
     "data": {
      "text/plain": [
       "2299"
      ]
     },
     "execution_count": 15,
     "metadata": {},
     "output_type": "execute_result"
    }
   ],
   "source": [
    "run(data, adjacency_rule=adjacent_seat_rule)"
   ]
  },
  {
   "cell_type": "markdown",
   "metadata": {},
   "source": [
    "### Solution to Part 2"
   ]
  },
  {
   "cell_type": "code",
   "execution_count": 16,
   "metadata": {},
   "outputs": [],
   "source": [
    "def part2_adjacent_seat_rule(seat_map, row, col, direction, *, verbose=False):\n",
    "    row, col = seat_map.new_seat(row, col, direction)\n",
    "    while seat_map.is_valid_seat(row, col):\n",
    "        if not seat_map.is_floor(row, col):\n",
    "            return row, col\n",
    "        row, col = seat_map.new_seat(row, col, direction)\n",
    "    return None"
   ]
  },
  {
   "cell_type": "code",
   "execution_count": 17,
   "metadata": {},
   "outputs": [
    {
     "data": {
      "text/plain": [
       "2047"
      ]
     },
     "execution_count": 17,
     "metadata": {},
     "output_type": "execute_result"
    }
   ],
   "source": [
    "run(data, adjacency_rule=part2_adjacent_seat_rule, threshold=5, limit=300)"
   ]
  },
  {
   "cell_type": "code",
   "execution_count": null,
   "metadata": {},
   "outputs": [],
   "source": []
  }
 ],
 "metadata": {
  "kernelspec": {
   "display_name": "Python 3",
   "language": "python",
   "name": "python3"
  },
  "language_info": {
   "codemirror_mode": {
    "name": "ipython",
    "version": 3
   },
   "file_extension": ".py",
   "mimetype": "text/x-python",
   "name": "python",
   "nbconvert_exporter": "python",
   "pygments_lexer": "ipython3",
   "version": "3.8.5"
  }
 },
 "nbformat": 4,
 "nbformat_minor": 4
}
