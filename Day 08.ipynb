{
 "cells": [
  {
   "cell_type": "markdown",
   "metadata": {},
   "source": [
    "## Day 8\n",
    "\n",
    "https://adventofcode.com/2020/day/8"
   ]
  },
  {
   "cell_type": "code",
   "execution_count": 1,
   "metadata": {},
   "outputs": [],
   "source": [
    "import aocd"
   ]
  },
  {
   "cell_type": "code",
   "execution_count": 2,
   "metadata": {},
   "outputs": [],
   "source": [
    "def split_data(data):\n",
    "    for line in data.splitlines():\n",
    "        line = line.split()\n",
    "        yield line[0], int(line[1])"
   ]
  },
  {
   "cell_type": "code",
   "execution_count": 3,
   "metadata": {},
   "outputs": [
    {
     "data": {
      "text/plain": [
       "636"
      ]
     },
     "execution_count": 3,
     "metadata": {},
     "output_type": "execute_result"
    }
   ],
   "source": [
    "lines = list(split_data(aocd.get_data(day=8, year=2020)))\n",
    "len(lines)"
   ]
  },
  {
   "cell_type": "markdown",
   "metadata": {},
   "source": [
    "### Solution to Part 1"
   ]
  },
  {
   "cell_type": "code",
   "execution_count": 4,
   "metadata": {},
   "outputs": [],
   "source": [
    "def find_loop(lines, *, change_line=None):\n",
    "    acc = 0\n",
    "    line = 0\n",
    "    seen = set()\n",
    "    n = len(lines)\n",
    "    while line < n:\n",
    "        if line in seen:\n",
    "            return True, acc\n",
    "        seen.add(line)\n",
    "        op, value = lines[line]\n",
    "        if op == 'jmp':\n",
    "            if change_line is not None and line == change_line:\n",
    "                line += 1\n",
    "            else:\n",
    "                line += value\n",
    "        elif op == 'acc':\n",
    "            acc += value\n",
    "            line += 1\n",
    "        else:\n",
    "            if change_line is not None and line == change_line:\n",
    "                line += value\n",
    "            else:\n",
    "                line += 1\n",
    "    return False, acc"
   ]
  },
  {
   "cell_type": "code",
   "execution_count": 5,
   "metadata": {},
   "outputs": [
    {
     "data": {
      "text/plain": [
       "(True, 1818)"
      ]
     },
     "execution_count": 5,
     "metadata": {},
     "output_type": "execute_result"
    }
   ],
   "source": [
    "find_loop(lines)"
   ]
  },
  {
   "cell_type": "markdown",
   "metadata": {},
   "source": [
    "### Solution to Part 2"
   ]
  },
  {
   "cell_type": "code",
   "execution_count": 6,
   "metadata": {},
   "outputs": [
    {
     "name": "stdout",
     "output_type": "stream",
     "text": [
      "631\n"
     ]
    }
   ],
   "source": [
    "for i, line in enumerate(lines):\n",
    "    found, acc = find_loop(lines, change_line=i)\n",
    "    if found is False:\n",
    "        print(acc)\n",
    "        break"
   ]
  },
  {
   "cell_type": "code",
   "execution_count": null,
   "metadata": {},
   "outputs": [],
   "source": []
  }
 ],
 "metadata": {
  "kernelspec": {
   "display_name": "Python 3",
   "language": "python",
   "name": "python3"
  },
  "language_info": {
   "codemirror_mode": {
    "name": "ipython",
    "version": 3
   },
   "file_extension": ".py",
   "mimetype": "text/x-python",
   "name": "python",
   "nbconvert_exporter": "python",
   "pygments_lexer": "ipython3",
   "version": "3.8.5"
  }
 },
 "nbformat": 4,
 "nbformat_minor": 4
}
