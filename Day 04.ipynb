{
 "cells": [
  {
   "cell_type": "markdown",
   "metadata": {},
   "source": [
    "## Day 4\n",
    "\n",
    "https://adventofcode.com/2020/day/4"
   ]
  },
  {
   "cell_type": "code",
   "execution_count": 1,
   "metadata": {},
   "outputs": [],
   "source": [
    "import aocd"
   ]
  },
  {
   "cell_type": "code",
   "execution_count": 2,
   "metadata": {},
   "outputs": [],
   "source": [
    "def split_data(data):\n",
    "    for chunk in data.split('\\n\\n'):\n",
    "        yield dict((field.split(':', 1)) for field in chunk.split())"
   ]
  },
  {
   "cell_type": "code",
   "execution_count": 3,
   "metadata": {},
   "outputs": [
    {
     "data": {
      "text/plain": [
       "291"
      ]
     },
     "execution_count": 3,
     "metadata": {},
     "output_type": "execute_result"
    }
   ],
   "source": [
    "records = list(split_data(aocd.get_data(day=4, year=2020)))\n",
    "len(records)"
   ]
  },
  {
   "cell_type": "code",
   "execution_count": 4,
   "metadata": {},
   "outputs": [
    {
     "data": {
      "text/plain": [
       "{'eyr': '2021',\n",
       " 'hgt': '168cm',\n",
       " 'hcl': '#fffffd',\n",
       " 'pid': '180778832',\n",
       " 'byr': '1923',\n",
       " 'ecl': 'amb',\n",
       " 'iyr': '2019',\n",
       " 'cid': '241'}"
      ]
     },
     "execution_count": 4,
     "metadata": {},
     "output_type": "execute_result"
    }
   ],
   "source": [
    "records[0]"
   ]
  },
  {
   "cell_type": "code",
   "execution_count": 5,
   "metadata": {},
   "outputs": [],
   "source": [
    "REQUIRED_KEYS = frozenset([\"byr\", \"iyr\", \"eyr\", \"hgt\", \"hcl\", \"ecl\", \"pid\"])"
   ]
  },
  {
   "cell_type": "code",
   "execution_count": 6,
   "metadata": {},
   "outputs": [],
   "source": [
    "ALL_KEYS = REQUIRED_KEYS | frozenset([\"cid\"])"
   ]
  },
  {
   "cell_type": "code",
   "execution_count": 7,
   "metadata": {},
   "outputs": [],
   "source": [
    "EYE_COLORS = frozenset('amb blu brn gry grn hzl oth'.split())"
   ]
  },
  {
   "cell_type": "code",
   "execution_count": 8,
   "metadata": {},
   "outputs": [],
   "source": [
    "DIGITS = frozenset(str(c) for c in range(10))"
   ]
  },
  {
   "cell_type": "code",
   "execution_count": 9,
   "metadata": {},
   "outputs": [],
   "source": [
    "COLOR_DIGITS = DIGITS | frozenset('a b c d e f'.split())"
   ]
  },
  {
   "cell_type": "markdown",
   "metadata": {},
   "source": [
    "### Solution to Part 1"
   ]
  },
  {
   "cell_type": "code",
   "execution_count": 10,
   "metadata": {},
   "outputs": [],
   "source": [
    "def has_required_fields(record) -> bool:\n",
    "    return ALL_KEYS >= record.keys() >= REQUIRED_KEYS"
   ]
  },
  {
   "cell_type": "code",
   "execution_count": 11,
   "metadata": {},
   "outputs": [
    {
     "data": {
      "text/plain": [
       "260"
      ]
     },
     "execution_count": 11,
     "metadata": {},
     "output_type": "execute_result"
    }
   ],
   "source": [
    "sum(has_required_fields(record) for record in records)"
   ]
  },
  {
   "cell_type": "markdown",
   "metadata": {},
   "source": [
    "### Solution to Part 2"
   ]
  },
  {
   "cell_type": "code",
   "execution_count": 12,
   "metadata": {},
   "outputs": [],
   "source": [
    "def valid_byr(value: str) -> int:\n",
    "    value = int(value)\n",
    "    if 1920 <= value <= 2002:\n",
    "        return value\n",
    "    else:\n",
    "        raise ValueError('out of range')"
   ]
  },
  {
   "cell_type": "code",
   "execution_count": 13,
   "metadata": {},
   "outputs": [],
   "source": [
    "def valid_iyr(value: str) -> int:\n",
    "    value = int(value)\n",
    "    if 2010 <= value <= 2020:\n",
    "        return value\n",
    "    else:\n",
    "        raise ValueError('out of range')"
   ]
  },
  {
   "cell_type": "code",
   "execution_count": 14,
   "metadata": {},
   "outputs": [],
   "source": [
    "def valid_eyr(value: str) -> int:\n",
    "    value = int(value)\n",
    "    if 2020 <= value <= 2030:\n",
    "        return value\n",
    "    else:\n",
    "        raise ValueError('out of range')"
   ]
  },
  {
   "cell_type": "code",
   "execution_count": 15,
   "metadata": {},
   "outputs": [],
   "source": [
    "def valid_ecl(value: str) -> str:\n",
    "    if value in EYE_COLORS:\n",
    "        return value\n",
    "    else:\n",
    "        raise ValueError('invalid eye color')"
   ]
  },
  {
   "cell_type": "code",
   "execution_count": 16,
   "metadata": {},
   "outputs": [],
   "source": [
    "def valid_hcl(value: str) -> str:\n",
    "    if len(value) != 7:\n",
    "        raise ValueError('hair color wrong length')\n",
    "    if value[0] != '#':\n",
    "        raise ValueError('hair color must start with #')\n",
    "    if not all(c in COLOR_DIGITS for c in value[1:]):\n",
    "        raise ValueError('invalid character')\n",
    "    return value"
   ]
  },
  {
   "cell_type": "code",
   "execution_count": 17,
   "metadata": {},
   "outputs": [],
   "source": [
    "def valid_pid(value: str) -> str:\n",
    "    if len(value) != 9:\n",
    "        raise ValueError('passport id wrong length')\n",
    "    if not all(c in COLOR_DIGITS for c in value):\n",
    "        raise ValueError('invalid character')\n",
    "    return value"
   ]
  },
  {
   "cell_type": "code",
   "execution_count": 18,
   "metadata": {},
   "outputs": [],
   "source": [
    "def valid_hgt(value: str) -> int:\n",
    "    units = value[-2:]\n",
    "    value = int(value[:-2])\n",
    "    if units == 'cm' and (150 <= value <= 193):\n",
    "        return value\n",
    "    if units == 'in' and (59 <= value <= 76):\n",
    "        return value\n",
    "    raise ValueError('out of range')"
   ]
  },
  {
   "cell_type": "code",
   "execution_count": 19,
   "metadata": {},
   "outputs": [],
   "source": [
    "def has_valid_values(passport) -> bool:\n",
    "    validators = {\n",
    "        'hgt': valid_hgt,\n",
    "        'pid': valid_pid,\n",
    "        'hcl': valid_hcl,\n",
    "        'ecl': valid_ecl,\n",
    "        'eyr': valid_eyr,\n",
    "        'iyr': valid_iyr,\n",
    "        'byr': valid_byr,\n",
    "        'cid': None,\n",
    "    }\n",
    "    for (k, v) in passport.items():\n",
    "        validate = validators[k]\n",
    "        if validate is not None:\n",
    "            try:\n",
    "                v = validate(v)\n",
    "            except (TypeError, ValueError) as e:\n",
    "                return False\n",
    "    return True"
   ]
  },
  {
   "cell_type": "code",
   "execution_count": 20,
   "metadata": {},
   "outputs": [],
   "source": [
    "def is_valid(passport) -> bool:\n",
    "    return has_required_fields(passport) and has_valid_values(passport)"
   ]
  },
  {
   "cell_type": "code",
   "execution_count": 21,
   "metadata": {},
   "outputs": [
    {
     "data": {
      "text/plain": [
       "153"
      ]
     },
     "execution_count": 21,
     "metadata": {},
     "output_type": "execute_result"
    }
   ],
   "source": [
    "sum(is_valid(record) for record in records)"
   ]
  },
  {
   "cell_type": "code",
   "execution_count": null,
   "metadata": {},
   "outputs": [],
   "source": []
  }
 ],
 "metadata": {
  "kernelspec": {
   "display_name": "Python 3",
   "language": "python",
   "name": "python3"
  },
  "language_info": {
   "codemirror_mode": {
    "name": "ipython",
    "version": 3
   },
   "file_extension": ".py",
   "mimetype": "text/x-python",
   "name": "python",
   "nbconvert_exporter": "python",
   "pygments_lexer": "ipython3",
   "version": "3.8.5"
  }
 },
 "nbformat": 4,
 "nbformat_minor": 4
}
